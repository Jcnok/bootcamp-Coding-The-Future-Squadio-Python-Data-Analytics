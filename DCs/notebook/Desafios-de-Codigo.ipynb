{
 "cells": [
  {
   "cell_type": "markdown",
   "id": "4e162488",
   "metadata": {},
   "source": [
    "# Resolução dos desafios de Código Python."
   ]
  },
  {
   "cell_type": "markdown",
   "id": "6c9ae9cf",
   "metadata": {},
   "source": [
    "<img src=\"img/python.jpg\" referrerpolicy=\"same-origin\" style=\"display: block; object-fit: cover; border-radius: 0px; width: 100%; height: 30vh; opacity: 1; object-position: center 50%;\">"
   ]
  },
  {
   "cell_type": "markdown",
   "id": "5afd077d",
   "metadata": {},
   "source": [
    "<a name=\"ancora\"></a>\n",
    "\n",
    "# Desafios:\n",
    "\n",
    "1. [A Aventura do Explorador](#ancora1)\n",
    "2. [Lista de itens](#ancora2)\n",
    "3. [Armazenamento de Dados é Vida](#ancora3)\n",
    "4. [Organizando Os Seus Ativos](#ancora4)   \n",
    "5. [O Grande Depósito](#ancora5)\n",
    "6. [Validando a Força de Senhas no IAM](#ancora6)\n",
    "7. [O Robô inteligente](#ancora7)   \n",
    "8. [A Jornada da Classificação Frutífera](#ancora8)\n",
    "9. [A Questão Intrincada da Magia Preditiva](#ancora9)  \n",
    "\n",
    "<a name=\"ancora\"></a>"
   ]
  },
  {
   "cell_type": "markdown",
   "id": "05776bf3",
   "metadata": {},
   "source": [
    "<a id=\"ancora1\"></a>\n",
    "## Desafio: A Aventura do Explorador"
   ]
  },
  {
   "cell_type": "markdown",
   "id": "0080f9b2",
   "metadata": {
    "heading_collapsed": true
   },
   "source": [
    "### Descrição\n",
    "Você é um intrépido explorador em uma jornada por uma terra desconhecida repleta de desafios emocionantes. Ao se deparar com uma floresta misteriosa, você percebe que a única maneira de atravessá-la é desvendando seus caminhos por meio de um código em Python. Prepare-se para a \"Aventura do Explorador\"!\n",
    " \n",
    "\n",
    "### Entrada\n",
    "* Seu programa deve solicitar ao usuário a entrada de um número inteiro positivo, representando a quantidade de passos que o explorador deve dar na floresta.\n",
    "\n",
    "### Saída\n",
    "* O programa deve imprimir uma mensagem indicando o progresso do explorador na floresta. Utilize um laço de repetição para simular os passos do explorador. A cada passo, imprima uma mensagem informando a distância percorrida até o momento.\n"
   ]
  },
  {
   "cell_type": "markdown",
   "id": "19a4b3c3",
   "metadata": {},
   "source": [
    "### Exemplos\n",
    "A tabela abaixo apresenta exemplos com alguns dados de entrada e suas respectivas saídas esperadas. Certifique-se de testar seu programa com esses exemplos e com outros casos possíveis."
   ]
  },
  {
   "cell_type": "markdown",
   "id": "063a608c-5dbf-4b33-868f-0734657364dc",
   "metadata": {},
   "source": [
    "Exemplo de Entrada | Exemplo de Saída\n",
    ":-----------------:|:-----------------: \n",
    "1     | Explorador: 1 passo\n",
    "2     | Explorador: 2 passos\n",
    "----- | ------------------------------\n",
    "----- | Explorador: 1 passo\n",
    "3     | Explorador: 2 passos\n",
    "----- | Explorador: 3 passos\n",
    "----- | ------------------------------\n",
    "----- | \n",
    "0     | Nenhum passo dado na floresta.\n",
    "----- |"
   ]
  },
  {
   "cell_type": "markdown",
   "id": "c4b56b6a-1544-4c9e-ad34-2c409be6de45",
   "metadata": {},
   "source": [
    "* **Código**:"
   ]
  },
  {
   "cell_type": "code",
   "execution_count": 3,
   "id": "73dcd154-c2d3-474d-8b9a-463daa834b6b",
   "metadata": {},
   "outputs": [
    {
     "name": "stdout",
     "output_type": "stream",
     "text": [
      "Writing codigos/execicio_iniciante_01.py\n"
     ]
    }
   ],
   "source": [
    "%%writefile codigos/execicio_iniciante_01.py\n",
    "# Solicita ao usuário a entrada de um número inteiro positivo\n",
    "quantidade_passos = int(input())\n",
    "\n",
    "# Verifica se a quantidade de passos é zero\n",
    "if quantidade_passos == 0:\n",
    "    print(\"Nenhum passo dado na floresta.\")\n",
    "else:\n",
    "    # Utiliza um laço de repetição para simular os passos do explorador\n",
    "    for passo in range(1, quantidade_passos + 1):\n",
    "        if passo == 1:\n",
    "            print(f\"Explorador: {passo} passo\")\n",
    "        else:\n",
    "            print(f\"Explorador: {passo} passos\")"
   ]
  },
  {
   "cell_type": "markdown",
   "id": "d905af98",
   "metadata": {},
   "source": [
    "[voltar](#ancora)"
   ]
  },
  {
   "cell_type": "markdown",
   "id": "3b984a17",
   "metadata": {},
   "source": [
    "<a id=\"ancora2\"></a>\n",
    "## Desafio: Lista de itens"
   ]
  },
  {
   "cell_type": "markdown",
   "id": "535e5924",
   "metadata": {},
   "source": [
    "### Descrição\n",
    "Em um jogo de RPG, os personagens geralmente possuem uma lista de itens que podem ser utilizados durante o jogo. Esses itens podem ser armas, armaduras, poções de cura, entre outros. É importante que o jogador tenha um controle desses itens para poder utilizá-los no momento adequado.\n",
    "\n",
    "Crie um programa que permita cadastrar uma lista de itens que o personagem possui. A lista deve conter o valor fixo de 3 itens e deve ser exibida na tela.\n",
    "\n",
    "### Entrada\n",
    "O programa deve solicitar ao usuário o nome dos 3 itens que o personagem possui. Cada item deve ser cadastrado separadamente.\n",
    "\n",
    "### Saída\n",
    "Após receber os itens cadastrados pelo usuário, o programa deve exibir na tela a lista de itens que o personagem possui. A saída deve ter o seguinte formato:\n",
    "\n",
    "Lista de itens:\n",
    "- [item1]\n",
    "- [item2]\n",
    "- [item3]\n",
    "\n",
    "### Exemplos\n",
    "A tabela abaixo apresenta exemplos com alguns dados de entrada e suas respectivas saídas esperadas. Certifique-se de testar seu programa com esses exemplos e com outros casos possíveis.\n"
   ]
  },
  {
   "cell_type": "markdown",
   "id": "cca02e07",
   "metadata": {},
   "source": [
    "Exemplo de Entrada | Exemplo de Saída\n",
    ":-----------------:|:------------------:\n",
    "Espada       | Lista de itens:\n",
    "Escudo       | - Espada\n",
    "Poção        | - Escudo\n",
    "-----        | - Poção\n",
    "-----        | ---------------------------------\n",
    "Gema         | Lista de itens:\n",
    "Flecha       | - Gema\n",
    "Capa         | - Flecha\n",
    "-----        | - Capa\n",
    "-----        | ---------------------------------\n",
    "Masterball   | Lista de itens:\n",
    "Potion       | - Masterball\n",
    "Elixir       | - Potion\n",
    "-----        | - Elixir"
   ]
  },
  {
   "cell_type": "markdown",
   "id": "46f094a9-607a-42c6-9f2e-8d59d4d22743",
   "metadata": {},
   "source": [
    "* **Código**:"
   ]
  },
  {
   "cell_type": "code",
   "execution_count": 5,
   "id": "08a00e47",
   "metadata": {},
   "outputs": [
    {
     "name": "stdout",
     "output_type": "stream",
     "text": [
      "Writing codigos/execicio_iniciante_02.py\n"
     ]
    }
   ],
   "source": [
    "%%writefile codigos/execicio_iniciante_02.py\n",
    "# Lista para armazenar os itens\n",
    "itens = []\n",
    "\n",
    "# Solicita os itens ao usuário\n",
    "for i in range(3):\n",
    "    item = input()\n",
    "    itens.append(item)\n",
    "\n",
    "# Exibe a lista de itens\n",
    "print(\"Lista de itens:\")\n",
    "for item in itens:\n",
    "    print(f\"- {item}\")"
   ]
  },
  {
   "cell_type": "markdown",
   "id": "80895a82",
   "metadata": {},
   "source": [
    "[voltar](#ancora)"
   ]
  },
  {
   "cell_type": "markdown",
   "id": "3dda63b4",
   "metadata": {},
   "source": [
    "<a id=\"ancora3\"></a>\n",
    "## Desafio:  Armazenamento de Dados é Vida"
   ]
  },
  {
   "cell_type": "markdown",
   "id": "251d7cd8",
   "metadata": {},
   "source": [
    "### Descrição\n",
    "Com as máquinas pesadas agrupadas estrategicamente, graças ao seu algoritmo de cálculo energético, agora a mineração está muito mais eficiente! Com isso, os CodeMiners logo terão que aumentar a capacidade de armazenamento de dados em seus discos de Mithril. Atualmente, cada máquina tem uma capacidade em teraflops e todas terão um upgrade! Escreva um programa que calcule a nova capacidade total de todas as máquinas após um aumento percentual específico.\n",
    "\n",
    "### Entrada\n",
    "- Dois valores inteiros positivos, representando a capacidade atual total em teraflops e o aumento percentual, separados por espaço.\n",
    "\n",
    "### Saída\n",
    "- A nova capacidade total em teraflops.\n",
    "\n",
    "### Exemplos\n",
    "A tabela abaixo apresenta exemplos com alguns dados de entrada e suas respectivas saídas esperadas. Certifique-se de testar seu programa com esses exemplos e com outros casos possíveis.\n"
   ]
  },
  {
   "cell_type": "markdown",
   "id": "9f7be5ae",
   "metadata": {},
   "source": [
    "Exemplo de Entrada | Exemplo de Saída\n",
    ":-----------------:|:------------------:\n",
    "100 20   | 120\n",
    "-----    | ---------------------------------\n",
    "50 10    | 55\n",
    "-----    | ---------------------------------\n",
    "200 50   | 300\n"
   ]
  },
  {
   "cell_type": "markdown",
   "id": "8dfbf4b0-f228-4834-a9a9-aa1a103c26a2",
   "metadata": {},
   "source": [
    "* **Código**:"
   ]
  },
  {
   "cell_type": "code",
   "execution_count": 7,
   "id": "b08f58ec",
   "metadata": {},
   "outputs": [
    {
     "name": "stdout",
     "output_type": "stream",
     "text": [
      "Writing codigos/execicio_iniciante_03.py\n"
     ]
    }
   ],
   "source": [
    "%%writefile codigos/execicio_iniciante_03.py\n",
    "# Entrada de dados\n",
    "capacidade_atual, aumento_percentual = map(int, input().split())\n",
    "\n",
    "# Calcula a nova capacidade do disco de Mithril\n",
    "nova_capacidade = capacidade_atual * (1 + aumento_percentual / 100)\n",
    "\n",
    "# Imprime a nova capacidade\n",
    "print(int(nova_capacidade))"
   ]
  },
  {
   "cell_type": "markdown",
   "id": "a88112fc",
   "metadata": {},
   "source": [
    "[voltar](#ancora)"
   ]
  },
  {
   "cell_type": "markdown",
   "id": "2b21c149",
   "metadata": {},
   "source": [
    "<a id=\"ancora4\"></a>\n",
    "## Desafio: Organizando Os Seus Ativos"
   ]
  },
  {
   "cell_type": "markdown",
   "id": "5959d1e1",
   "metadata": {},
   "source": [
    "### Desafio\n",
    "Após uma análise cuidadosa realizada pela equipe de desenvolvimento de uma empresa bancaria, foi identificado a necessidade de uma nova funcionalidade para otimizar os processos e melhorias da experiência dos usuários. Agora, sua tarefa é implementar uma solução que organize em ordem alfabética uma lista de ativos que será informada pelos usuários. Os ativos são representados por strings que representam seus tipos, como por exemplo: Reservas de liquidez, Ativos intangiveis e dentre outros.\n",
    "\n",
    "### Entrada:\n",
    "A primeira entrada consiste em um número inteiro que representa a  quantidade de ativos que o usuário possui. Em seguida, o usuário deverá  informar, em linhas separadas, os tipos (strings) dos respectivos ativos.\n",
    "\n",
    "### Saída:\n",
    "Seu programa deve exibir a lista de Ativos organizada em ordem alfabética. Cada ativo deve ser apresentado em uma linha separada.\n",
    "\n",
    "### Exemplos\n",
    "A tabela abaixo apresenta exemplos com alguns dados de entrada e suas respectivas saídas esperadas. Certifique-se de testar seu programa com esses exemplos e com outros casos possíveis."
   ]
  },
  {
   "cell_type": "markdown",
   "id": "9671480f",
   "metadata": {},
   "source": [
    "Exemplo de Entrada | Exemplo de Saída\n",
    ":-----------------:|:------------------:\n",
    "3                         | Deposito\n",
    "Financiamento de Imovel   | Financiamento de Imovel\n",
    "Deposito                  | Reservas Bancarias\n",
    "Reservas Bancarias        |\n",
    "----- | ---------------------------------\n",
    "3                         | Carteiras de credito \n",
    "Carteiras de credito      | Derivativos financeiros\n",
    "Investimentos em titulos  | Investimentos em titulos\n",
    "Derivativos financeiros   |\n",
    "----- | ---------------------------------\n",
    "3                         | Ativos intangiveis \n",
    "Reservas de liquidez      | Fundos de investimento\n",
    "Ativos intangiveis        | Reservas de liquidez\n",
    "Fundos de investimento    |"
   ]
  },
  {
   "cell_type": "markdown",
   "id": "603e63bf",
   "metadata": {},
   "source": [
    "* **Código**:"
   ]
  },
  {
   "cell_type": "code",
   "execution_count": 10,
   "id": "ef417d24",
   "metadata": {},
   "outputs": [
    {
     "name": "stdout",
     "output_type": "stream",
     "text": [
      "Writing codigos/execicio_intermediario_02.py\n"
     ]
    }
   ],
   "source": [
    "%%writefile codigos/execicio_intermediario_02.py\n",
    "ativos = []\n",
    "# Entrada da quantidade de ativos \n",
    "quantidadeAtivos = int(input())\n",
    "# Entrada dos códigos dos ativos\n",
    "for _ in range(quantidadeAtivos):\n",
    "    codigoAtivo = input()\n",
    "    ativos.append(codigoAtivo)\n",
    "# TODO: Ordenar os ativos em ordem alfabética.\n",
    "ativos.sort()\n",
    "# TODO: Imprimir a lista de ativos ordenada, conforme a tabela de exemplos.\n",
    "for i in ativos:\n",
    "  print(i)"
   ]
  },
  {
   "cell_type": "markdown",
   "id": "bded7537",
   "metadata": {},
   "source": [
    "[voltar](#ancora)"
   ]
  },
  {
   "cell_type": "markdown",
   "id": "2053c873",
   "metadata": {},
   "source": [
    "<a id=\"ancora5\"></a>\n",
    "## Desafio: O Grande Depósito"
   ]
  },
  {
   "cell_type": "markdown",
   "id": "3c5d83c7",
   "metadata": {},
   "source": [
    "### Desafio\n",
    "Você foi contratado por um banco para desenvolver um programa que auxilie seus clientes a realizar depósitos em suas contas. O programa deve solicitar ao cliente o valor do depósito e verificar se o valor é válido. Se o valor for maior do que zero, o programa deve adicionar o valor ao saldo da conta. Caso contrário, o programa deve exibir uma mensagem de erro e solicitar um novo valor. O programa deve continuar solicitando valores de depósito até que seja digitado um valor válido.\n",
    "\n",
    "### Entrada\n",
    "O programa deve utilizar o Scanner para receber os valores de depósito digitados pelo cliente. Os valores podem ser decimais, representando valores em reais.\n",
    "\n",
    "### Saída\n",
    "O programa deve exibir uma mensagem de sucesso quando um valor de depósito válido for informado e o saldo da conta for atualizado. Caso um valor inválido seja digitado, o programa deve exibir uma mensagem de erro e solicitar um novo valor.\n",
    "\n",
    "### Exemplos\n",
    "A tabela abaixo apresenta exemplos com alguns dados de entrada e suas respectivas saídas esperadas. Certifique-se de testar seu programa com esses exemplos e com outros casos possíveis."
   ]
  },
  {
   "cell_type": "markdown",
   "id": "faf19a70",
   "metadata": {},
   "source": [
    "Exemplo de Entrada | Exemplo de Saída\n",
    ":-----------------:|:------------------:\n",
    "500.50 | Deposito realizado com sucesso! Saldo atual: R$ 500.50\n",
    "-----  | ---------------------------------\n",
    "-100   | Valor invalido! Digite um valor maior que zero.\n",
    "-----  | ---------------------------------\n",
    "0      | Encerrando o programa..."
   ]
  },
  {
   "cell_type": "markdown",
   "id": "be788721-468c-4a01-bd70-47de1a16c9cf",
   "metadata": {},
   "source": [
    "* **Código**:"
   ]
  },
  {
   "cell_type": "code",
   "execution_count": 11,
   "id": "ca757ada",
   "metadata": {},
   "outputs": [
    {
     "name": "stdout",
     "output_type": "stream",
     "text": [
      "Overwriting codigos/execicio_intermediario_01.py\n"
     ]
    }
   ],
   "source": [
    "%%writefile codigos/execicio_intermediario_01.py\n",
    "saldo = 0 \n",
    "\n",
    "while True:\n",
    " try:\n",
    "  valor = float(input())\n",
    "\n",
    "  if valor > 0:\n",
    "   saldo = saldo + valor\n",
    "   print(\"Deposito realizado com sucesso!\")\n",
    "   print(\"Saldo atual: R$ {:.2f}\".format(saldo))\n",
    "   break\n",
    "  \n",
    "  elif valor == 0:\n",
    "   print(\"Encerrando o programa...\")\n",
    "   break\n",
    "\n",
    "  else:\n",
    "   print(\"Valor invalido! Digite um valor maior que zero.\")\n",
    "\n",
    " except EOFError:\n",
    "  break"
   ]
  },
  {
   "cell_type": "markdown",
   "id": "23714baf",
   "metadata": {},
   "source": [
    "[voltar](#ancora)"
   ]
  },
  {
   "cell_type": "markdown",
   "id": "2d88e555-9cf0-4fa4-bae8-be5f76a49d84",
   "metadata": {},
   "source": [
    "<a id=\"ancora6\"></a>\n",
    "## Validando a Força de Senhas no IAM"
   ]
  },
  {
   "cell_type": "markdown",
   "id": "ee651bb2-931a-4644-a9d3-d46225b0632f",
   "metadata": {},
   "source": [
    "### Desafio\n",
    "Você está trabalhando para uma empresa que utiliza extensivamente os serviços da AWS, e após algumas análises a equipe de segurança identificou que algumas senhas dos usuários no IAM são fracas e podem representar um risco à segurança dos dados da empresa. Para resolver esse problema, foi solicitado que você desenvolva um programa capaz de analisar as senhas dos usuários e fornecer uma validação de força com base em critérios predefinidos.\n",
    "\n",
    "**Requisitos de segurança para a senha:**\n",
    "\n",
    "1. A senha deve ter no mínimo 8 caracteres.\n",
    "2. A senha deve conter pelo menos uma letra maiúscula (A-Z).\n",
    "3. A senha deve conter pelo menos uma letra minúscula (a-z).\n",
    "4. A senha deve conter pelo menos um número (0-9).\n",
    "5. A senha deve conter pelo menos um caractere especial, como !, @, #, $, %, etc.\n",
    "\n",
    "### Entrada\n",
    "A entrada será uma única string representando a senha que precisa ser validada.\n",
    "\n",
    "### Saída\n",
    "Seu programa deve retornar uma mensagem indicando se a senha fornecida pelo usuário atende aos requisitos de segurança ou não, juntamente com um feedback explicativo sobre os critérios considerados.\n",
    "\n",
    "### Exemplos\n",
    "A tabela abaixo apresenta exemplos com alguns dados de entrada e suas respectivas saídas esperadas. Certifique-se de testar seu programa com esses exemplos e com outros casos possíveis."
   ]
  },
  {
   "cell_type": "markdown",
   "id": "9afe81d6-eac3-4e7b-bfc4-ea1ce17a8578",
   "metadata": {},
   "source": [
    "Exemplo de Entrada | Exemplo de Saída\n",
    ":-----------------:|:------------------:\n",
    "0101             | Sua senha e muito curta. Recomenda-se no minimo 8 caracteres.\n",
    "-----            | ---------------------------------\n",
    "030609saturno*   | Sua senha atende aos requisitos de seguranca. Parabens!\n",
    "-----            | ---------------------------------\n",
    "010203Jupiter    | Sua senha nao atende aos requisitos de seguranca."
   ]
  },
  {
   "cell_type": "markdown",
   "id": "5c6b418d-ef62-41a2-ae12-5f2a87474475",
   "metadata": {},
   "source": [
    "* **Código**:"
   ]
  },
  {
   "cell_type": "code",
   "execution_count": 23,
   "id": "76187430-aad1-4bba-927e-983b914b9b08",
   "metadata": {},
   "outputs": [
    {
     "name": "stdout",
     "output_type": "stream",
     "text": [
      "Writing codigos/execicio_intermediario_03.py\n"
     ]
    }
   ],
   "source": [
    "%%writefile codigos/execicio_intermediario_03.py\n",
    "import re\n",
    "\n",
    "def verificar_forca_senha(senha):\n",
    "    comprimento_minimo = 8\n",
    "    tem_letra_maiuscula = False\n",
    "    tem_letra_minuscula = False\n",
    "    tem_numero = False\n",
    "    tem_caractere_especial = False\n",
    "\n",
    "    # Verificando o comprimento da senha\n",
    "    if len(senha) < comprimento_minimo:\n",
    "        return f\"Sua senha e muito curta. Recomenda-se no minimo {comprimento_minimo} caracteres.\"\n",
    "\n",
    "    # Verificando se a senha contém letras maiúsculas, minúsculas, números e caracteres especiais\n",
    "    for caractere in senha:\n",
    "        if caractere.isupper():\n",
    "            tem_letra_maiuscula = True\n",
    "        elif caractere.islower():\n",
    "            tem_letra_minuscula = True\n",
    "        elif caractere.isdigit():\n",
    "            tem_numero = True\n",
    "        elif re.match(r'\\W', caractere):\n",
    "            tem_caractere_especial = True\n",
    "\n",
    "    # Verificando se a senha atende a todos os critérios\n",
    "    if not (tem_letra_maiuscula and tem_letra_minuscula and tem_numero and tem_caractere_especial):\n",
    "        return \"Sua senha nao atende aos requisitos de seguranca.\"\n",
    "\n",
    "    # Verificando se a senha contém sequências comuns\n",
    "    sequencias_comuns = [\"123456\", \"abcdef\"]\n",
    "    for sequencia in sequencias_comuns:\n",
    "        if sequencia in senha:\n",
    "            return \"Sua senha contem uma sequencia comum. Tente uma senha mais complexa.\"\n",
    "\n",
    "    # Verificando se a senha contém palavras comuns\n",
    "    palavras_comuns = [\"password\", \"123456\", \"qwerty\"]\n",
    "    if senha in palavras_comuns:\n",
    "        return \"Sua senha e muito comum. Tente uma senha mais complexa.\"\n",
    "\n",
    "    return \"Sua senha atende aos requisitos de seguranca. Parabens!\"\n",
    "\n",
    "# Obtendo a senha do usuário\n",
    "senha = input().strip()\n",
    "\n",
    "# Verificando a força da senha\n",
    "resultado = verificar_forca_senha(senha)\n",
    "\n",
    "# Imprimindo o resultado\n",
    "print(resultado)"
   ]
  },
  {
   "cell_type": "markdown",
   "id": "b8e48f62-3661-482f-ab91-fde0b5bc24d6",
   "metadata": {},
   "source": [
    "[voltar](#ancora)"
   ]
  },
  {
   "cell_type": "markdown",
   "id": "5a277b7e-cd01-48ae-9bd9-1276a146fe42",
   "metadata": {},
   "source": [
    "<a id=\"ancora7\"></a>\n",
    "## Desafio: O Robô inteligente"
   ]
  },
  {
   "cell_type": "markdown",
   "id": "ebc9bc2d-25d1-43c7-8a1e-f8ae79ae982f",
   "metadata": {},
   "source": [
    "### Desafio\n",
    "Você foi contratado pela empresa DIO Robots para programar um robô capaz de classificar números em uma das seguintes categorias: negativo, positivo ou zero. Para isso, você deve criar uma função de classificação que receba um número como parâmetro e retorne a mensagem \"negativo!\" ou \" positivo!\", de acordo com sua categoria.\n",
    "\n",
    "O programa deve ser executado continuamente, permitindo que o usuário insira vários números. Quando ele quiser encerrar a execução, deverá digitar um número igual a zero. A cada novo número inserido, o robô deve classificá-lo e exibir a mensagem correspondente. Ao final da execução, o programa deverá exibir a quantidade de números positivos, negativos e zeros que foram inseridos.\n",
    "\n",
    "### Entrada\n",
    "A entrada deve receber valores inteiros.\n",
    "\n",
    "* numero: valor inteiro que pode ser positivo, negativo ou zero. Lembrando que a entrada zero deve encerrar o programa.\n",
    "\n",
    "### Saída\n",
    "O código deverá retornar uma mensagem (string) informando se o número é positivo ou não. Ao receber o valor 0, ele deverá encerrar o e informar quantos números foram positivos e negativos.\n",
    "\n",
    "### Exemplos\n",
    "A tabela abaixo apresenta exemplos com alguns dados de entrada e suas respectivas saídas esperadas. Certifique-se de testar seu programa com esses exemplos e com outros casos possíveis.\n"
   ]
  },
  {
   "cell_type": "markdown",
   "id": "3e17de79-8a28-49a2-9848-a83eb6ad65b7",
   "metadata": {},
   "source": [
    "Exemplo de Entrada | Exemplo de Saída\n",
    ":-----------------:|:------------------:\n",
    "1      | positivo!\n",
    "-1     | negativo!\n",
    "2      | positivo!\n",
    "0      | 2 números positivos, 1 números negativos\n",
    "-----  | ---------------------------------\n",
    "1      | positivo!\n",
    "-1     | negativo!\n",
    "0      | 1 números positivos, 1 números negativos\n",
    "-----  | ---------------------------------\n",
    "1      | positivo!\n",
    "1      | positivo!\n",
    "-1     | negativo!\n",
    "-1     | negativo!\n",
    "0      | 2 números positivos, 2 números negativos"
   ]
  },
  {
   "cell_type": "markdown",
   "id": "3403dbfe-deda-4605-b6e6-1d513db8a893",
   "metadata": {},
   "source": [
    "* **Código**:"
   ]
  },
  {
   "cell_type": "code",
   "execution_count": 25,
   "id": "63ac1c50-f5af-4e63-ae06-46edf6569dd3",
   "metadata": {},
   "outputs": [
    {
     "name": "stdout",
     "output_type": "stream",
     "text": [
      "Writing codigos/execicio_intermediarioII_01.py\n"
     ]
    }
   ],
   "source": [
    "%%writefile codigos/execicio_intermediarioII_01.py\n",
    "# TODO: Crie a Função para classificar um número como positivo, negativo ou zero\n",
    "def classificar_numero(numero):\n",
    "    if numero > 0:\n",
    "        return \"positivo!\"\n",
    "    elif numero < 0:\n",
    "        return \"negativo!\"\n",
    "    else:\n",
    "        return \"zero!\"\n",
    "\n",
    "def main():\n",
    "    positivos = 0\n",
    "    negativos = 0\n",
    "    \n",
    "    while True:\n",
    "        numero = int(input())\n",
    "        \n",
    "        if numero == 0:\n",
    "            break  # Encerra o loop se o usuário digitar 0.\n",
    "        \n",
    "        # Chama a função classificar_numero para imprimir a classificação do número\n",
    "        classificacao = classificar_numero(numero)\n",
    "        print(classificacao)\n",
    "        \n",
    "        # TODO: Faça a verificação para saber quantos números positivos e negativos foram inseridos\n",
    "        if classificacao == \"positivo!\":\n",
    "            positivos += 1\n",
    "        elif classificacao == \"negativo!\":\n",
    "            negativos += 1\n",
    "    \n",
    "    # Imprime a quantidade de números positivos e negativos inseridos\n",
    "    print(f\"{positivos} números positivos, {negativos} números negativos\")\n",
    "\n",
    "if __name__ == \"__main__\":\n",
    "    main()"
   ]
  },
  {
   "cell_type": "markdown",
   "id": "26fb9094-da74-4f33-9375-40e0efe2ecc1",
   "metadata": {},
   "source": [
    "[voltar](#ancora)"
   ]
  },
  {
   "cell_type": "markdown",
   "id": "b02907b1-a982-4ce5-a801-93c4d3620d79",
   "metadata": {},
   "source": [
    "<a id=\"ancora8\"></a>\n",
    "## Desafio: A Jornada da Classificação Frutífera"
   ]
  },
  {
   "cell_type": "markdown",
   "id": "aa21a546-2415-4b00-b751-68a36a6cfa25",
   "metadata": {},
   "source": [
    "### Desafio\n",
    "Nesta missão, sua tarefa é mais desafiadora do que nunca! Em um pomar mágico, as frutas têm características únicas que as diferenciam. Seu objetivo é criar um modelo de machine learning capaz de classificar frutas com base em três características: peso, textura (suave ou áspera) e cor (vermelha, laranja ou amarela). Cada tipo de fruta tem limites específicos para essas características.\n",
    "\n",
    "* Morango:\n",
    "  - Peso mínimo: 150 gramas\n",
    "  - Textura: Suave (smooth)\n",
    "  - Cor: Vermelha (red)\n",
    "* Laranja:\n",
    "  - Peso mínimo: 120 gramas\n",
    "  - Textura: Suave (smooth)\n",
    "  - Cor: Laranja (orange)\n",
    "* Banana:\n",
    "  - Peso mínimo: 150 gramas\n",
    "  - Textura: Áspera (rough)\n",
    "  - Cor: Amarela (yellow)\n",
    "* Maçã:\n",
    "  - Peso mínimo: 130 gramas\n",
    "  - Textura: Ápera (rough)\n",
    "  - Cor: Vermelha (red)\n",
    "* Importante:\n",
    "É necessário que a ordem das condições elif  seja respeitada conforme a descrição do desafio. Lembrando que, no Python, a indentação é fundamental para a definição de blocos de código, como os que pertencem a loops e funções. Se a indentação estiver incorreta, o Python não conseguirá interpretar corretamente o bloco de código, resultando em erros ou comportamento inesperado.\n",
    "\n",
    "### Entrada\n",
    "Seu código deve receber as seguintes entradas do usuário:\n",
    "\n",
    "* Peso da fruta (em gramas): um número real que representa o peso da fruta.\n",
    "* Textura da fruta (suave ou áspera): uma string indicando se a fruta é suave (\"smooth\") ou áspera (\"rough\").\n",
    "* Cor da fruta (vermelha, laranja ou amarela): uma string indicando a cor da fruta.\n",
    "\n",
    "### Saída\n",
    "O código deve produzir uma saída indicando a classificação da fruta com base nas características fornecidas.\n",
    "\n",
    "### Exemplos\n",
    "A tabela abaixo apresenta exemplos com alguns dados de entrada e suas respectivas saídas esperadas. Certifique-se de testar seu programa com esses exemplos e com outros casos possíveis.\n",
    "\n"
   ]
  },
  {
   "cell_type": "markdown",
   "id": "2ce1ebca-c32b-40b9-9895-f8a8325e3738",
   "metadata": {},
   "source": [
    "Exemplo de Entrada | Exemplo de Saída\n",
    ":-----------------:|:------------------:\n",
    "150        | ---\n",
    "smooth     | A fruta é um morango!\n",
    "red        | ---\n",
    "-----      | ---------------------------------\n",
    "140        | ---\n",
    "rough      | Não foi possível classificar a fruta.\n",
    "yellow     | ---\n",
    "-----      | ---------------------------------\n",
    "150        | ---\n",
    "smooth     | A fruta é uma laranja!\n",
    "orange     | ---\n"
   ]
  },
  {
   "cell_type": "markdown",
   "id": "9ed2cdb5-c71c-4e07-8dff-5f8ea3f5e2e6",
   "metadata": {},
   "source": [
    "* **Código**:"
   ]
  },
  {
   "cell_type": "code",
   "execution_count": 26,
   "id": "7782a94e-359c-4f45-8b35-bc8080696d38",
   "metadata": {},
   "outputs": [
    {
     "name": "stdout",
     "output_type": "stream",
     "text": [
      "Writing codigos/execicio_intermediarioII_02.py\n"
     ]
    }
   ],
   "source": [
    "%%writefile codigos/execicio_intermediarioII_02.py\n",
    "def prever_fruta(peso, textura, cor):\n",
    "    # Lógica de decisão baseada nas características fornecidas\n",
    "    if peso >= 150 and textura == \"smooth\" and cor == \"red\":\n",
    "        return \"A fruta é um morango!\"\n",
    "    elif peso >= 120 and textura == \"smooth\" and cor == \"orange\":\n",
    "        return \"A fruta é uma laranja!\"\n",
    "    elif peso >= 150 and textura == \"rough\" and cor == \"yellow\":\n",
    "        return \"A fruta é uma banana!\"\n",
    "    elif peso >= 130 and textura == \"rough\" and cor == \"red\":\n",
    "        return \"A fruta é uma maçã!\"\n",
    "    else:\n",
    "        return \"Não foi possível classificar a fruta.\"\n",
    "\n",
    "# Entrada do usuário\n",
    "try:\n",
    "    peso_fruta = float(input())\n",
    "    textura_fruta = input()\n",
    "    cor_fruta = input()\n",
    "\n",
    "    # Chamada da função de previsão\n",
    "    resultado = prever_fruta(peso_fruta, textura_fruta, cor_fruta)\n",
    "\n",
    "    # Saída da previsão\n",
    "    print(resultado)\n",
    "except ValueError:\n",
    "    print(\"Por favor, insira valores válidos.\")"
   ]
  },
  {
   "cell_type": "markdown",
   "id": "be347f05-5b59-44e2-a8ea-5057abe0009d",
   "metadata": {},
   "source": [
    "[voltar](#ancora)"
   ]
  },
  {
   "cell_type": "markdown",
   "id": "9d5b7ede-ee18-4bf0-8b90-d314cb22e098",
   "metadata": {},
   "source": [
    "<a id=\"ancora9\"></a>\n",
    "## Desafio: A Questão Intrincada da Magia Preditiva"
   ]
  },
  {
   "cell_type": "markdown",
   "id": "e749d59e-672c-4eeb-9af2-3642695b3cbc",
   "metadata": {},
   "source": [
    "### Desafio\n",
    "No reino mágico onde cada feiticeiro possui uma afinidade elemental única, seu desafio é criar um modelo de machine learning para prever essa afinidade. Os feiticeiros podem pertencer a um dos quatro elementos mágicos: Fogo, Água, Terra ou Ar. A predição será baseada em cinco atributos mágicos: intensidade do feitiço, presença de componente raro, fase lunar, idade do feiticeiro e afinidade com animais mágicos.\n",
    "\n",
    "Aqui estão os critérios mágicos para cada elemento:\n",
    "\n",
    "* Elemento Fogo:\n",
    "\n",
    "    * Intensidade do feitiço maior ou igual a 5.\n",
    "    * Fase lunar durante o feitiço é crescente.\n",
    "    * Idade do feiticeiro é superior a 100 anos.\n",
    "* Elemento Água:\n",
    "\n",
    "    * Intensidade do feitiço maior ou igual a 7.\n",
    "    * Presença de componente raro.\n",
    "    * Fase lunar durante o feitiço é cheia.\n",
    "    * Idade do feiticeiro é igual ou inferior a 100 anos.\n",
    "    * Afinidade com animais mágicos.\n",
    "* Elemento Terra:\n",
    "\n",
    "    * Intensidade do feitiço maior ou igual a 7.\n",
    "    * Presença de componente raro.\n",
    "    * Fase lunar durante o feitiço é cheia.\n",
    "    * Idade do feiticeiro é igual ou inferior a 100 anos.\n",
    "    * Afinidade com animais mágicos.\n",
    "* Elemento Ar:\n",
    "\n",
    "    * Caso não se encaixe nos critérios anteriores.\n",
    "\n",
    "### Entrada\n",
    "Seu código deve receber as seguintes entradas do usuário:\n",
    "\n",
    "* Intensidade do feitiço (de 1 a 10): um número inteiro representando a força do feitiço.\n",
    "* Componente raro (sim ou não): uma string indicando se o feitiço contém um componente raro.\n",
    "* Fase lunar (cheia, crescente ou minguante): uma string indicando a fase lunar durante o lançamento do feitiço.\n",
    "* Idade do feiticeiro (em anos): um número inteiro representando a idade do feiticeiro.\n",
    "* Afinidade com animais mágicos (sim ou não): uma string indicando se o feiticeiro tem afinidade com animais mágicos.\n",
    "\n",
    "### Saída\n",
    "O código deve produzir uma saída indicando a afinidade elemental prevista do feiticeiro com base nos atributos fornecidos.\n",
    "\n",
    "### Exemplos\n",
    "A tabela abaixo apresenta exemplos com alguns dados de entrada e suas respectivas saídas esperadas. Certifique-se de testar seu programa com esses exemplos e com outros casos possíveis."
   ]
  },
  {
   "cell_type": "markdown",
   "id": "1f5f137f-2953-4b8b-94c8-5593b46ca919",
   "metadata": {},
   "source": [
    "Exemplo de Entrada | Exemplo de Saída\n",
    ":-----------------:|:------------------:\n",
    "6            | ---\n",
    "sim          | A afinidade elemental do feiticeiro é com o elemento Fogo!\n",
    "crescente    | ---\n",
    "110          | ---\n",
    "sim          | ---\n",
    "-----        | ---------------------------------\n",
    "8            | ---\n",
    "sim          | A afinidade elemental do feiticeiro é com o elemento Água!\n",
    "cheia        | ---\n",
    "80           | ---\n",
    "não          | ---\n",
    "-----        | ---------------------------------\n",
    "9            | ---\n",
    "sim          | A afinidade elemental do feiticeiro é com o elemento Terra!\n",
    "cheia        | ---\n",
    "80           | ---\n",
    "sim          | ---\n"
   ]
  },
  {
   "cell_type": "markdown",
   "id": "e4e6db79-3bd0-40b0-b200-a66d313d613e",
   "metadata": {},
   "source": [
    "* **Código**:"
   ]
  },
  {
   "cell_type": "code",
   "execution_count": 27,
   "id": "23338f42-26c0-4f46-a639-25be7b47d23c",
   "metadata": {},
   "outputs": [
    {
     "name": "stdout",
     "output_type": "stream",
     "text": [
      "Writing codigos/execicio_intermediarioII_03.py\n"
     ]
    }
   ],
   "source": [
    "%%writefile codigos/execicio_intermediarioII_03.py\n",
    "# Função para prever a afinidade elemental do feiticeiro\n",
    "def prever_afinidade_elemental(intensidade, componente_raro, fase_lunar, idade_feiticeiro, afinidade_animais):\n",
    "    # Convertendo a resposta do componente raro e afinidade com animais para booleanos\n",
    "    componente_raro = componente_raro.lower() == \"sim\"\n",
    "    afinidade_animais = afinidade_animais.lower() == \"sim\"\n",
    "    \n",
    "    # Desenvolva a Lógica de decisão para prever a afinidade elemental\n",
    "    if intensidade >= 5 and fase_lunar == \"crescente\" and idade_feiticeiro > 100:\n",
    "        return \"A afinidade elemental do feiticeiro é com o elemento Fogo!\"\n",
    "    elif intensidade >= 7 and componente_raro and fase_lunar == \"cheia\" and idade_feiticeiro <= 100 and afinidade_animais:\n",
    "        return \"A afinidade elemental do feiticeiro é com o elemento Terra!\"\n",
    "    elif intensidade >= 7 and componente_raro and fase_lunar == \"cheia\" and idade_feiticeiro <= 100:\n",
    "        return \"A afinidade elemental do feiticeiro é com o elemento Água!\"\n",
    "    else:\n",
    "        return \"A afinidade elemental do feiticeiro é com o elemento Ar!\"\n",
    "\n",
    "# Entrada do usuário\n",
    "intensidade_feitico = int(input())\n",
    "componente_raro_feitico = input()\n",
    "fase_lunar_feitico = input()\n",
    "idade_feiticeiro = int(input())\n",
    "afinidade_animais_feiticeiro = input()\n",
    "\n",
    "# Fazendo a previsão\n",
    "resultado = prever_afinidade_elemental(intensidade_feitico, componente_raro_feitico, fase_lunar_feitico, idade_feiticeiro, afinidade_animais_feiticeiro)\n",
    "\n",
    "# Saída da previsão\n",
    "print(resultado)"
   ]
  },
  {
   "cell_type": "markdown",
   "id": "93a6de82-cbee-4857-ba43-89477a46b169",
   "metadata": {},
   "source": [
    "[voltar](#ancora)"
   ]
  }
 ],
 "metadata": {
  "kernelspec": {
   "display_name": "Python 3 (ipykernel)",
   "language": "python",
   "name": "python3"
  },
  "language_info": {
   "codemirror_mode": {
    "name": "ipython",
    "version": 3
   },
   "file_extension": ".py",
   "mimetype": "text/x-python",
   "name": "python",
   "nbconvert_exporter": "python",
   "pygments_lexer": "ipython3",
   "version": "3.12.1"
  }
 },
 "nbformat": 4,
 "nbformat_minor": 5
}
