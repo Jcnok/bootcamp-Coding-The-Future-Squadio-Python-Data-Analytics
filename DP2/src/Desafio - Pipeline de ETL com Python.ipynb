{
 "cells": [
  {
   "cell_type": "markdown",
   "metadata": {},
   "source": [
    "# ETL e Análise de Gastos dos Deputados Federais"
   ]
  },
  {
   "cell_type": "markdown",
   "metadata": {},
   "source": [
    "<img src=\"../img/photo.jpg\" >"
   ]
  },
  {
   "cell_type": "markdown",
   "metadata": {},
   "source": [
    "## Objetivo"
   ]
  },
  {
   "cell_type": "markdown",
   "metadata": {},
   "source": [
    "O objetivo deste projeto é extrair, transformar e carregar dados relacionados aos gastos dos deputados federais do Brasil. Em seguida, os dados serão analisados para identificar padrões de gastos do ano em exercicío."
   ]
  },
  {
   "cell_type": "markdown",
   "metadata": {},
   "source": [
    "<a name=\"ancora\"></a>\n",
    "\n",
    "# Índice\n",
    "\n",
    "1. [Extração dos dados](#ancora1)\n",
    "2. [Transformação](#ancora2)\n",
    "3. [Carregamento(Load)](#ancora3)\n",
    "4. [EDA](#ancora4)   \n",
    "5. [Conclusão](#ancora5)   \n",
    "\n",
    "<a name=\"ancora\"></a>"
   ]
  },
  {
   "cell_type": "markdown",
   "metadata": {},
   "source": [
    "<a id=\"ancora1\"></a>\n",
    "\n",
    "## Extração dos dados\n"
   ]
  },
  {
   "cell_type": "markdown",
   "metadata": {},
   "source": [
    "A fonte de dados utilizada para este projeto é o portal de dados abertos da Câmara dos Deputados do Brasil, disponível no site [Dados Abertos](https://dadosabertos.camara.leg.br/swagger/api.html#api).\n",
    "<p>A coleta de dados será realizada por meio do uso da API disponibilizada pelo portal. </p>"
   ]
  },
  {
   "cell_type": "code",
   "execution_count": 1,
   "metadata": {},
   "outputs": [],
   "source": [
    "# importação das bibliotecas\n",
    "import pandas as pd\n",
    "import requests"
   ]
  },
  {
   "cell_type": "code",
   "execution_count": 2,
   "metadata": {},
   "outputs": [],
   "source": [
    "# Realizando o request dos dados dos deputados\n",
    "url = \"https://dadosabertos.camara.leg.br/api/v2/deputados?ordem=ASC&ordenarPor=nome\"\n",
    "resultado = requests.get(url)"
   ]
  },
  {
   "cell_type": "code",
   "execution_count": 3,
   "metadata": {
    "scrolled": false
   },
   "outputs": [],
   "source": [
    "# Convertendo em dataframe\n",
    "deputados = pd.DataFrame(resultado.json()['dados'])"
   ]
  },
  {
   "cell_type": "code",
   "execution_count": 4,
   "metadata": {},
   "outputs": [
    {
     "data": {
      "text/html": [
       "<div>\n",
       "<style scoped>\n",
       "    .dataframe tbody tr th:only-of-type {\n",
       "        vertical-align: middle;\n",
       "    }\n",
       "\n",
       "    .dataframe tbody tr th {\n",
       "        vertical-align: top;\n",
       "    }\n",
       "\n",
       "    .dataframe thead th {\n",
       "        text-align: right;\n",
       "    }\n",
       "</style>\n",
       "<table border=\"1\" class=\"dataframe\">\n",
       "  <thead>\n",
       "    <tr style=\"text-align: right;\">\n",
       "      <th></th>\n",
       "      <th>id</th>\n",
       "      <th>uri</th>\n",
       "      <th>nome</th>\n",
       "      <th>siglaPartido</th>\n",
       "      <th>uriPartido</th>\n",
       "      <th>siglaUf</th>\n",
       "      <th>idLegislatura</th>\n",
       "      <th>urlFoto</th>\n",
       "      <th>email</th>\n",
       "    </tr>\n",
       "  </thead>\n",
       "  <tbody>\n",
       "    <tr>\n",
       "      <th>0</th>\n",
       "      <td>220593</td>\n",
       "      <td>https://dadosabertos.camara.leg.br/api/v2/depu...</td>\n",
       "      <td>Abilio Brunini</td>\n",
       "      <td>PL</td>\n",
       "      <td>https://dadosabertos.camara.leg.br/api/v2/part...</td>\n",
       "      <td>MT</td>\n",
       "      <td>57</td>\n",
       "      <td>https://www.camara.leg.br/internet/deputado/ba...</td>\n",
       "      <td>dep.abiliobrunini@camara.leg.br</td>\n",
       "    </tr>\n",
       "    <tr>\n",
       "      <th>1</th>\n",
       "      <td>204379</td>\n",
       "      <td>https://dadosabertos.camara.leg.br/api/v2/depu...</td>\n",
       "      <td>Acácio Favacho</td>\n",
       "      <td>MDB</td>\n",
       "      <td>https://dadosabertos.camara.leg.br/api/v2/part...</td>\n",
       "      <td>AP</td>\n",
       "      <td>57</td>\n",
       "      <td>https://www.camara.leg.br/internet/deputado/ba...</td>\n",
       "      <td>dep.acaciofavacho@camara.leg.br</td>\n",
       "    </tr>\n",
       "    <tr>\n",
       "      <th>2</th>\n",
       "      <td>220714</td>\n",
       "      <td>https://dadosabertos.camara.leg.br/api/v2/depu...</td>\n",
       "      <td>Adail Filho</td>\n",
       "      <td>REPUBLICANOS</td>\n",
       "      <td>https://dadosabertos.camara.leg.br/api/v2/part...</td>\n",
       "      <td>AM</td>\n",
       "      <td>57</td>\n",
       "      <td>https://www.camara.leg.br/internet/deputado/ba...</td>\n",
       "      <td>dep.adailfilho@camara.leg.br</td>\n",
       "    </tr>\n",
       "    <tr>\n",
       "      <th>3</th>\n",
       "      <td>221328</td>\n",
       "      <td>https://dadosabertos.camara.leg.br/api/v2/depu...</td>\n",
       "      <td>Adilson Barroso</td>\n",
       "      <td>PL</td>\n",
       "      <td>https://dadosabertos.camara.leg.br/api/v2/part...</td>\n",
       "      <td>SP</td>\n",
       "      <td>57</td>\n",
       "      <td>https://www.camara.leg.br/internet/deputado/ba...</td>\n",
       "      <td>dep.adilsonbarroso@camara.leg.br</td>\n",
       "    </tr>\n",
       "    <tr>\n",
       "      <th>4</th>\n",
       "      <td>204560</td>\n",
       "      <td>https://dadosabertos.camara.leg.br/api/v2/depu...</td>\n",
       "      <td>Adolfo Viana</td>\n",
       "      <td>PSDB</td>\n",
       "      <td>https://dadosabertos.camara.leg.br/api/v2/part...</td>\n",
       "      <td>BA</td>\n",
       "      <td>57</td>\n",
       "      <td>https://www.camara.leg.br/internet/deputado/ba...</td>\n",
       "      <td>dep.adolfoviana@camara.leg.br</td>\n",
       "    </tr>\n",
       "  </tbody>\n",
       "</table>\n",
       "</div>"
      ],
      "text/plain": [
       "       id                                                uri             nome  \\\n",
       "0  220593  https://dadosabertos.camara.leg.br/api/v2/depu...   Abilio Brunini   \n",
       "1  204379  https://dadosabertos.camara.leg.br/api/v2/depu...   Acácio Favacho   \n",
       "2  220714  https://dadosabertos.camara.leg.br/api/v2/depu...      Adail Filho   \n",
       "3  221328  https://dadosabertos.camara.leg.br/api/v2/depu...  Adilson Barroso   \n",
       "4  204560  https://dadosabertos.camara.leg.br/api/v2/depu...     Adolfo Viana   \n",
       "\n",
       "   siglaPartido                                         uriPartido siglaUf  \\\n",
       "0            PL  https://dadosabertos.camara.leg.br/api/v2/part...      MT   \n",
       "1           MDB  https://dadosabertos.camara.leg.br/api/v2/part...      AP   \n",
       "2  REPUBLICANOS  https://dadosabertos.camara.leg.br/api/v2/part...      AM   \n",
       "3            PL  https://dadosabertos.camara.leg.br/api/v2/part...      SP   \n",
       "4          PSDB  https://dadosabertos.camara.leg.br/api/v2/part...      BA   \n",
       "\n",
       "   idLegislatura                                            urlFoto  \\\n",
       "0             57  https://www.camara.leg.br/internet/deputado/ba...   \n",
       "1             57  https://www.camara.leg.br/internet/deputado/ba...   \n",
       "2             57  https://www.camara.leg.br/internet/deputado/ba...   \n",
       "3             57  https://www.camara.leg.br/internet/deputado/ba...   \n",
       "4             57  https://www.camara.leg.br/internet/deputado/ba...   \n",
       "\n",
       "                              email  \n",
       "0   dep.abiliobrunini@camara.leg.br  \n",
       "1   dep.acaciofavacho@camara.leg.br  \n",
       "2      dep.adailfilho@camara.leg.br  \n",
       "3  dep.adilsonbarroso@camara.leg.br  \n",
       "4     dep.adolfoviana@camara.leg.br  "
      ]
     },
     "execution_count": 4,
     "metadata": {},
     "output_type": "execute_result"
    }
   ],
   "source": [
    "deputados.head()"
   ]
  },
  {
   "cell_type": "code",
   "execution_count": 5,
   "metadata": {},
   "outputs": [
    {
     "data": {
      "text/plain": [
       "(512, 9)"
      ]
     },
     "execution_count": 5,
     "metadata": {},
     "output_type": "execute_result"
    }
   ],
   "source": [
    "# conferindo o tamanho\n",
    "deputados.shape"
   ]
  },
  {
   "cell_type": "markdown",
   "metadata": {},
   "source": [
    "* **A variárvel 'deputados' é um dataframe que contém informações sobre os 513 deputados federais, cada linha representa um deputado e as colunas contêm diferentes atributos e informações sobre os mesmos.**"
   ]
  },
  {
   "cell_type": "markdown",
   "metadata": {},
   "source": [
    "* **Certo agora já temos uma base de dados dos deputados, precisamos agora realizar o request dos gastos.**\n",
    "* **Neste caso iremos realizar um request de 100 registros de cada id.**"
   ]
  },
  {
   "cell_type": "code",
   "execution_count": 6,
   "metadata": {},
   "outputs": [],
   "source": [
    "# Realizando o request dos gastos de 2023 dos deputatos 100 itens.\n",
    "gastos = []\n",
    "for id in deputados.id:\n",
    "    url_despesa = \"https://dadosabertos.camara.leg.br/api/v2/deputados/\"\n",
    "    url_despesa= url_despesa +str(id)+ \"/despesas?ano=2023&itens=100&ordem=ASC&ordenarPor=ano\"    \n",
    "    resposta = requests.get(url_despesa)\n",
    "    gasto = pd.DataFrame(resposta.json()['dados'])\n",
    "    gasto['id'] = id\n",
    "    gastos.append(gasto)       "
   ]
  },
  {
   "cell_type": "code",
   "execution_count": 8,
   "metadata": {},
   "outputs": [
    {
     "data": {
      "text/plain": [
       "100"
      ]
     },
     "execution_count": 8,
     "metadata": {},
     "output_type": "execute_result"
    }
   ],
   "source": [
    "# Foram coletados 100 registros de cada deputado para esse exemplo.\n",
    "len(gastos[510])"
   ]
  },
  {
   "cell_type": "code",
   "execution_count": 9,
   "metadata": {},
   "outputs": [
    {
     "data": {
      "text/plain": [
       "(100, 18)"
      ]
     },
     "execution_count": 9,
     "metadata": {},
     "output_type": "execute_result"
    }
   ],
   "source": [
    "# 100 linhas e 18 colunas.\n",
    "gastos[0].shape"
   ]
  },
  {
   "cell_type": "code",
   "execution_count": 10,
   "metadata": {},
   "outputs": [
    {
     "data": {
      "text/html": [
       "<div>\n",
       "<style scoped>\n",
       "    .dataframe tbody tr th:only-of-type {\n",
       "        vertical-align: middle;\n",
       "    }\n",
       "\n",
       "    .dataframe tbody tr th {\n",
       "        vertical-align: top;\n",
       "    }\n",
       "\n",
       "    .dataframe thead th {\n",
       "        text-align: right;\n",
       "    }\n",
       "</style>\n",
       "<table border=\"1\" class=\"dataframe\">\n",
       "  <thead>\n",
       "    <tr style=\"text-align: right;\">\n",
       "      <th></th>\n",
       "      <th>ano</th>\n",
       "      <th>mes</th>\n",
       "      <th>tipoDespesa</th>\n",
       "      <th>codDocumento</th>\n",
       "      <th>tipoDocumento</th>\n",
       "      <th>codTipoDocumento</th>\n",
       "      <th>dataDocumento</th>\n",
       "      <th>numDocumento</th>\n",
       "      <th>valorDocumento</th>\n",
       "      <th>urlDocumento</th>\n",
       "      <th>nomeFornecedor</th>\n",
       "      <th>cnpjCpfFornecedor</th>\n",
       "      <th>valorLiquido</th>\n",
       "      <th>valorGlosa</th>\n",
       "      <th>numRessarcimento</th>\n",
       "      <th>codLote</th>\n",
       "      <th>parcela</th>\n",
       "      <th>id</th>\n",
       "    </tr>\n",
       "  </thead>\n",
       "  <tbody>\n",
       "    <tr>\n",
       "      <th>95</th>\n",
       "      <td>2023</td>\n",
       "      <td>3</td>\n",
       "      <td>COMBUSTÍVEIS E LUBRIFICANTES.</td>\n",
       "      <td>7516348</td>\n",
       "      <td>Nota Fiscal Eletrônica</td>\n",
       "      <td>4</td>\n",
       "      <td>2023-03-13</td>\n",
       "      <td>5913</td>\n",
       "      <td>192.38</td>\n",
       "      <td>http://www.camara.leg.br/cota-parlamentar/nota...</td>\n",
       "      <td>BOSQUE DA SAUDE COM. COMB. LTDA</td>\n",
       "      <td>02823845000102</td>\n",
       "      <td>192.38</td>\n",
       "      <td>0.0</td>\n",
       "      <td></td>\n",
       "      <td>1918715</td>\n",
       "      <td>0</td>\n",
       "      <td>220593</td>\n",
       "    </tr>\n",
       "    <tr>\n",
       "      <th>96</th>\n",
       "      <td>2023</td>\n",
       "      <td>3</td>\n",
       "      <td>COMBUSTÍVEIS E LUBRIFICANTES.</td>\n",
       "      <td>7516337</td>\n",
       "      <td>Nota Fiscal Eletrônica</td>\n",
       "      <td>4</td>\n",
       "      <td>2023-03-25</td>\n",
       "      <td>6050</td>\n",
       "      <td>248.54</td>\n",
       "      <td>http://www.camara.leg.br/cota-parlamentar/nota...</td>\n",
       "      <td>BOSQUE DA SAUDE COM. COMB. LTDA</td>\n",
       "      <td>02823845000102</td>\n",
       "      <td>248.54</td>\n",
       "      <td>0.0</td>\n",
       "      <td></td>\n",
       "      <td>1918714</td>\n",
       "      <td>0</td>\n",
       "      <td>220593</td>\n",
       "    </tr>\n",
       "    <tr>\n",
       "      <th>97</th>\n",
       "      <td>2023</td>\n",
       "      <td>8</td>\n",
       "      <td>COMBUSTÍVEIS E LUBRIFICANTES.</td>\n",
       "      <td>7591454</td>\n",
       "      <td>Nota Fiscal Eletrônica</td>\n",
       "      <td>4</td>\n",
       "      <td>2023-08-11</td>\n",
       "      <td>659931</td>\n",
       "      <td>30.90</td>\n",
       "      <td>http://www.camara.leg.br/cota-parlamentar/nota...</td>\n",
       "      <td>BURITI COM.DE DERIVADOS DE PET LTDA</td>\n",
       "      <td>10827927000153</td>\n",
       "      <td>30.90</td>\n",
       "      <td>0.0</td>\n",
       "      <td></td>\n",
       "      <td>1959288</td>\n",
       "      <td>0</td>\n",
       "      <td>220593</td>\n",
       "    </tr>\n",
       "    <tr>\n",
       "      <th>98</th>\n",
       "      <td>2023</td>\n",
       "      <td>4</td>\n",
       "      <td>COMBUSTÍVEIS E LUBRIFICANTES.</td>\n",
       "      <td>7553208</td>\n",
       "      <td>Nota Fiscal</td>\n",
       "      <td>0</td>\n",
       "      <td>2023-04-17</td>\n",
       "      <td>196407</td>\n",
       "      <td>183.85</td>\n",
       "      <td>https://www.camara.leg.br/cota-parlamentar/doc...</td>\n",
       "      <td>CENTRO DE SERVS FRANGO ASSADO NORTE LT</td>\n",
       "      <td>02896671001937</td>\n",
       "      <td>183.85</td>\n",
       "      <td>0.0</td>\n",
       "      <td></td>\n",
       "      <td>1938971</td>\n",
       "      <td>0</td>\n",
       "      <td>220593</td>\n",
       "    </tr>\n",
       "    <tr>\n",
       "      <th>99</th>\n",
       "      <td>2023</td>\n",
       "      <td>8</td>\n",
       "      <td>COMBUSTÍVEIS E LUBRIFICANTES.</td>\n",
       "      <td>7602582</td>\n",
       "      <td>Nota Fiscal Eletrônica</td>\n",
       "      <td>4</td>\n",
       "      <td>2023-08-19</td>\n",
       "      <td>130045</td>\n",
       "      <td>86.03</td>\n",
       "      <td>http://www.camara.leg.br/cota-parlamentar/nota...</td>\n",
       "      <td>COMERCIAL 364 DE COMBUSTIVEIS LTDA</td>\n",
       "      <td>27744555000102</td>\n",
       "      <td>86.03</td>\n",
       "      <td>0.0</td>\n",
       "      <td></td>\n",
       "      <td>1965161</td>\n",
       "      <td>0</td>\n",
       "      <td>220593</td>\n",
       "    </tr>\n",
       "  </tbody>\n",
       "</table>\n",
       "</div>"
      ],
      "text/plain": [
       "     ano  mes                    tipoDespesa  codDocumento  \\\n",
       "95  2023    3  COMBUSTÍVEIS E LUBRIFICANTES.       7516348   \n",
       "96  2023    3  COMBUSTÍVEIS E LUBRIFICANTES.       7516337   \n",
       "97  2023    8  COMBUSTÍVEIS E LUBRIFICANTES.       7591454   \n",
       "98  2023    4  COMBUSTÍVEIS E LUBRIFICANTES.       7553208   \n",
       "99  2023    8  COMBUSTÍVEIS E LUBRIFICANTES.       7602582   \n",
       "\n",
       "             tipoDocumento  codTipoDocumento dataDocumento numDocumento  \\\n",
       "95  Nota Fiscal Eletrônica                 4    2023-03-13         5913   \n",
       "96  Nota Fiscal Eletrônica                 4    2023-03-25         6050   \n",
       "97  Nota Fiscal Eletrônica                 4    2023-08-11       659931   \n",
       "98             Nota Fiscal                 0    2023-04-17       196407   \n",
       "99  Nota Fiscal Eletrônica                 4    2023-08-19       130045   \n",
       "\n",
       "    valorDocumento                                       urlDocumento  \\\n",
       "95          192.38  http://www.camara.leg.br/cota-parlamentar/nota...   \n",
       "96          248.54  http://www.camara.leg.br/cota-parlamentar/nota...   \n",
       "97           30.90  http://www.camara.leg.br/cota-parlamentar/nota...   \n",
       "98          183.85  https://www.camara.leg.br/cota-parlamentar/doc...   \n",
       "99           86.03  http://www.camara.leg.br/cota-parlamentar/nota...   \n",
       "\n",
       "                            nomeFornecedor cnpjCpfFornecedor  valorLiquido  \\\n",
       "95         BOSQUE DA SAUDE COM. COMB. LTDA    02823845000102        192.38   \n",
       "96         BOSQUE DA SAUDE COM. COMB. LTDA    02823845000102        248.54   \n",
       "97     BURITI COM.DE DERIVADOS DE PET LTDA    10827927000153         30.90   \n",
       "98  CENTRO DE SERVS FRANGO ASSADO NORTE LT    02896671001937        183.85   \n",
       "99      COMERCIAL 364 DE COMBUSTIVEIS LTDA    27744555000102         86.03   \n",
       "\n",
       "    valorGlosa numRessarcimento  codLote  parcela      id  \n",
       "95         0.0                   1918715        0  220593  \n",
       "96         0.0                   1918714        0  220593  \n",
       "97         0.0                   1959288        0  220593  \n",
       "98         0.0                   1938971        0  220593  \n",
       "99         0.0                   1965161        0  220593  "
      ]
     },
     "execution_count": 10,
     "metadata": {},
     "output_type": "execute_result"
    }
   ],
   "source": [
    "# visualizando os 5 ultimos registros do primeiro id.\n",
    "gastos[0].tail()"
   ]
  },
  {
   "cell_type": "markdown",
   "metadata": {},
   "source": [
    "[voltar](#ancora)"
   ]
  },
  {
   "cell_type": "markdown",
   "metadata": {},
   "source": [
    "<a id=\"ancora2\"></a>\n",
    "\n",
    "## Transformação "
   ]
  },
  {
   "cell_type": "code",
   "execution_count": 11,
   "metadata": {},
   "outputs": [
    {
     "data": {
      "text/plain": [
       "Index(['id', 'uri', 'nome', 'siglaPartido', 'uriPartido', 'siglaUf',\n",
       "       'idLegislatura', 'urlFoto', 'email'],\n",
       "      dtype='object')"
      ]
     },
     "execution_count": 11,
     "metadata": {},
     "output_type": "execute_result"
    }
   ],
   "source": [
    "# verificando os atributos\n",
    "deputados.columns "
   ]
  },
  {
   "cell_type": "markdown",
   "metadata": {},
   "source": [
    "* **Para esse estudo vamos utilizar apenas os ['id', 'nome', 'siglaPartido','siglaUf','idLegislatura']**"
   ]
  },
  {
   "cell_type": "code",
   "execution_count": 12,
   "metadata": {},
   "outputs": [
    {
     "data": {
      "text/html": [
       "<div>\n",
       "<style scoped>\n",
       "    .dataframe tbody tr th:only-of-type {\n",
       "        vertical-align: middle;\n",
       "    }\n",
       "\n",
       "    .dataframe tbody tr th {\n",
       "        vertical-align: top;\n",
       "    }\n",
       "\n",
       "    .dataframe thead th {\n",
       "        text-align: right;\n",
       "    }\n",
       "</style>\n",
       "<table border=\"1\" class=\"dataframe\">\n",
       "  <thead>\n",
       "    <tr style=\"text-align: right;\">\n",
       "      <th></th>\n",
       "      <th>id</th>\n",
       "      <th>nome</th>\n",
       "      <th>siglaPartido</th>\n",
       "      <th>siglaUf</th>\n",
       "      <th>idLegislatura</th>\n",
       "    </tr>\n",
       "  </thead>\n",
       "  <tbody>\n",
       "    <tr>\n",
       "      <th>0</th>\n",
       "      <td>220593</td>\n",
       "      <td>Abilio Brunini</td>\n",
       "      <td>PL</td>\n",
       "      <td>MT</td>\n",
       "      <td>57</td>\n",
       "    </tr>\n",
       "    <tr>\n",
       "      <th>1</th>\n",
       "      <td>204379</td>\n",
       "      <td>Acácio Favacho</td>\n",
       "      <td>MDB</td>\n",
       "      <td>AP</td>\n",
       "      <td>57</td>\n",
       "    </tr>\n",
       "    <tr>\n",
       "      <th>2</th>\n",
       "      <td>220714</td>\n",
       "      <td>Adail Filho</td>\n",
       "      <td>REPUBLICANOS</td>\n",
       "      <td>AM</td>\n",
       "      <td>57</td>\n",
       "    </tr>\n",
       "    <tr>\n",
       "      <th>3</th>\n",
       "      <td>221328</td>\n",
       "      <td>Adilson Barroso</td>\n",
       "      <td>PL</td>\n",
       "      <td>SP</td>\n",
       "      <td>57</td>\n",
       "    </tr>\n",
       "    <tr>\n",
       "      <th>4</th>\n",
       "      <td>204560</td>\n",
       "      <td>Adolfo Viana</td>\n",
       "      <td>PSDB</td>\n",
       "      <td>BA</td>\n",
       "      <td>57</td>\n",
       "    </tr>\n",
       "  </tbody>\n",
       "</table>\n",
       "</div>"
      ],
      "text/plain": [
       "       id             nome  siglaPartido siglaUf  idLegislatura\n",
       "0  220593   Abilio Brunini            PL      MT             57\n",
       "1  204379   Acácio Favacho           MDB      AP             57\n",
       "2  220714      Adail Filho  REPUBLICANOS      AM             57\n",
       "3  221328  Adilson Barroso            PL      SP             57\n",
       "4  204560     Adolfo Viana          PSDB      BA             57"
      ]
     },
     "execution_count": 12,
     "metadata": {},
     "output_type": "execute_result"
    }
   ],
   "source": [
    "deputados = deputados[['id', 'nome', 'siglaPartido','siglaUf','idLegislatura']]\n",
    "deputados.head()"
   ]
  },
  {
   "cell_type": "markdown",
   "metadata": {},
   "source": [
    "* **Vamos concatenar os 513 ids em um único dataframe usando o concat.**"
   ]
  },
  {
   "cell_type": "code",
   "execution_count": 13,
   "metadata": {},
   "outputs": [],
   "source": [
    "# Concatenando \n",
    "total = pd.concat(gastos)"
   ]
  },
  {
   "cell_type": "code",
   "execution_count": 14,
   "metadata": {},
   "outputs": [
    {
     "data": {
      "text/plain": [
       "49023"
      ]
     },
     "execution_count": 14,
     "metadata": {},
     "output_type": "execute_result"
    }
   ],
   "source": [
    "len(total)"
   ]
  },
  {
   "cell_type": "code",
   "execution_count": 15,
   "metadata": {},
   "outputs": [
    {
     "data": {
      "text/html": [
       "<div>\n",
       "<style scoped>\n",
       "    .dataframe tbody tr th:only-of-type {\n",
       "        vertical-align: middle;\n",
       "    }\n",
       "\n",
       "    .dataframe tbody tr th {\n",
       "        vertical-align: top;\n",
       "    }\n",
       "\n",
       "    .dataframe thead th {\n",
       "        text-align: right;\n",
       "    }\n",
       "</style>\n",
       "<table border=\"1\" class=\"dataframe\">\n",
       "  <thead>\n",
       "    <tr style=\"text-align: right;\">\n",
       "      <th></th>\n",
       "      <th>ano</th>\n",
       "      <th>mes</th>\n",
       "      <th>tipoDespesa</th>\n",
       "      <th>codDocumento</th>\n",
       "      <th>tipoDocumento</th>\n",
       "      <th>codTipoDocumento</th>\n",
       "      <th>dataDocumento</th>\n",
       "      <th>numDocumento</th>\n",
       "      <th>valorDocumento</th>\n",
       "      <th>urlDocumento</th>\n",
       "      <th>nomeFornecedor</th>\n",
       "      <th>cnpjCpfFornecedor</th>\n",
       "      <th>valorLiquido</th>\n",
       "      <th>valorGlosa</th>\n",
       "      <th>numRessarcimento</th>\n",
       "      <th>codLote</th>\n",
       "      <th>parcela</th>\n",
       "      <th>id</th>\n",
       "    </tr>\n",
       "  </thead>\n",
       "  <tbody>\n",
       "    <tr>\n",
       "      <th>95</th>\n",
       "      <td>2023.0</td>\n",
       "      <td>8.0</td>\n",
       "      <td>COMBUSTÍVEIS E LUBRIFICANTES.</td>\n",
       "      <td>7601638.0</td>\n",
       "      <td>Nota Fiscal Eletrônica</td>\n",
       "      <td>4.0</td>\n",
       "      <td>2023-08-29</td>\n",
       "      <td>1332250</td>\n",
       "      <td>250.00</td>\n",
       "      <td>http://www.camara.leg.br/cota-parlamentar/nota...</td>\n",
       "      <td>COMERCIAL DE COMBUSTIVEIS PLANETARIO LTDA.</td>\n",
       "      <td>01157271000118</td>\n",
       "      <td>250.00</td>\n",
       "      <td>0.0</td>\n",
       "      <td></td>\n",
       "      <td>1964622.0</td>\n",
       "      <td>0.0</td>\n",
       "      <td>220552</td>\n",
       "    </tr>\n",
       "    <tr>\n",
       "      <th>96</th>\n",
       "      <td>2023.0</td>\n",
       "      <td>3.0</td>\n",
       "      <td>COMBUSTÍVEIS E LUBRIFICANTES.</td>\n",
       "      <td>7513661.0</td>\n",
       "      <td>Nota Fiscal Eletrônica</td>\n",
       "      <td>4.0</td>\n",
       "      <td>2023-03-11</td>\n",
       "      <td>575375</td>\n",
       "      <td>217.75</td>\n",
       "      <td>http://www.camara.leg.br/cota-parlamentar/nota...</td>\n",
       "      <td>COMERCIO DE COMBUSTIVEIS FLORESTAL LTDA</td>\n",
       "      <td>02558109000921</td>\n",
       "      <td>217.75</td>\n",
       "      <td>0.0</td>\n",
       "      <td></td>\n",
       "      <td>1916796.0</td>\n",
       "      <td>0.0</td>\n",
       "      <td>220552</td>\n",
       "    </tr>\n",
       "    <tr>\n",
       "      <th>97</th>\n",
       "      <td>2023.0</td>\n",
       "      <td>8.0</td>\n",
       "      <td>COMBUSTÍVEIS E LUBRIFICANTES.</td>\n",
       "      <td>7585426.0</td>\n",
       "      <td>Nota Fiscal Eletrônica</td>\n",
       "      <td>4.0</td>\n",
       "      <td>2023-08-06</td>\n",
       "      <td>2614301</td>\n",
       "      <td>245.96</td>\n",
       "      <td>http://www.camara.leg.br/cota-parlamentar/nota...</td>\n",
       "      <td>COML BUFFON COMB E TRANSP LTDA - POSTO 26</td>\n",
       "      <td>93489243002674</td>\n",
       "      <td>226.06</td>\n",
       "      <td>19.9</td>\n",
       "      <td></td>\n",
       "      <td>1956583.0</td>\n",
       "      <td>0.0</td>\n",
       "      <td>220552</td>\n",
       "    </tr>\n",
       "    <tr>\n",
       "      <th>98</th>\n",
       "      <td>2023.0</td>\n",
       "      <td>7.0</td>\n",
       "      <td>COMBUSTÍVEIS E LUBRIFICANTES.</td>\n",
       "      <td>7585374.0</td>\n",
       "      <td>Nota Fiscal Eletrônica</td>\n",
       "      <td>4.0</td>\n",
       "      <td>2023-07-12</td>\n",
       "      <td>2220367</td>\n",
       "      <td>251.52</td>\n",
       "      <td>http://www.camara.leg.br/cota-parlamentar/nota...</td>\n",
       "      <td>COML BUFFON COMB E TRANSP LTDA - POSTO 47</td>\n",
       "      <td>93489243004707</td>\n",
       "      <td>251.52</td>\n",
       "      <td>0.0</td>\n",
       "      <td></td>\n",
       "      <td>1956581.0</td>\n",
       "      <td>0.0</td>\n",
       "      <td>220552</td>\n",
       "    </tr>\n",
       "    <tr>\n",
       "      <th>99</th>\n",
       "      <td>2023.0</td>\n",
       "      <td>8.0</td>\n",
       "      <td>COMBUSTÍVEIS E LUBRIFICANTES.</td>\n",
       "      <td>7601513.0</td>\n",
       "      <td>Nota Fiscal Eletrônica</td>\n",
       "      <td>4.0</td>\n",
       "      <td>2023-08-25</td>\n",
       "      <td>2255317</td>\n",
       "      <td>249.66</td>\n",
       "      <td>http://www.camara.leg.br/cota-parlamentar/nota...</td>\n",
       "      <td>COML BUFFON COMB E TRANSP LTDA - POSTO 47</td>\n",
       "      <td>93489243004707</td>\n",
       "      <td>249.66</td>\n",
       "      <td>0.0</td>\n",
       "      <td></td>\n",
       "      <td>1964622.0</td>\n",
       "      <td>0.0</td>\n",
       "      <td>220552</td>\n",
       "    </tr>\n",
       "  </tbody>\n",
       "</table>\n",
       "</div>"
      ],
      "text/plain": [
       "       ano  mes                    tipoDespesa  codDocumento  \\\n",
       "95  2023.0  8.0  COMBUSTÍVEIS E LUBRIFICANTES.     7601638.0   \n",
       "96  2023.0  3.0  COMBUSTÍVEIS E LUBRIFICANTES.     7513661.0   \n",
       "97  2023.0  8.0  COMBUSTÍVEIS E LUBRIFICANTES.     7585426.0   \n",
       "98  2023.0  7.0  COMBUSTÍVEIS E LUBRIFICANTES.     7585374.0   \n",
       "99  2023.0  8.0  COMBUSTÍVEIS E LUBRIFICANTES.     7601513.0   \n",
       "\n",
       "             tipoDocumento  codTipoDocumento dataDocumento numDocumento  \\\n",
       "95  Nota Fiscal Eletrônica               4.0    2023-08-29      1332250   \n",
       "96  Nota Fiscal Eletrônica               4.0    2023-03-11       575375   \n",
       "97  Nota Fiscal Eletrônica               4.0    2023-08-06      2614301   \n",
       "98  Nota Fiscal Eletrônica               4.0    2023-07-12      2220367   \n",
       "99  Nota Fiscal Eletrônica               4.0    2023-08-25      2255317   \n",
       "\n",
       "    valorDocumento                                       urlDocumento  \\\n",
       "95          250.00  http://www.camara.leg.br/cota-parlamentar/nota...   \n",
       "96          217.75  http://www.camara.leg.br/cota-parlamentar/nota...   \n",
       "97          245.96  http://www.camara.leg.br/cota-parlamentar/nota...   \n",
       "98          251.52  http://www.camara.leg.br/cota-parlamentar/nota...   \n",
       "99          249.66  http://www.camara.leg.br/cota-parlamentar/nota...   \n",
       "\n",
       "                                nomeFornecedor cnpjCpfFornecedor  \\\n",
       "95  COMERCIAL DE COMBUSTIVEIS PLANETARIO LTDA.    01157271000118   \n",
       "96     COMERCIO DE COMBUSTIVEIS FLORESTAL LTDA    02558109000921   \n",
       "97   COML BUFFON COMB E TRANSP LTDA - POSTO 26    93489243002674   \n",
       "98   COML BUFFON COMB E TRANSP LTDA - POSTO 47    93489243004707   \n",
       "99   COML BUFFON COMB E TRANSP LTDA - POSTO 47    93489243004707   \n",
       "\n",
       "    valorLiquido  valorGlosa numRessarcimento    codLote  parcela      id  \n",
       "95        250.00         0.0                   1964622.0      0.0  220552  \n",
       "96        217.75         0.0                   1916796.0      0.0  220552  \n",
       "97        226.06        19.9                   1956583.0      0.0  220552  \n",
       "98        251.52         0.0                   1956581.0      0.0  220552  \n",
       "99        249.66         0.0                   1964622.0      0.0  220552  "
      ]
     },
     "execution_count": 15,
     "metadata": {},
     "output_type": "execute_result"
    }
   ],
   "source": [
    "total.tail()"
   ]
  },
  {
   "cell_type": "code",
   "execution_count": 16,
   "metadata": {},
   "outputs": [
    {
     "data": {
      "text/plain": [
       "(49023, 18)"
      ]
     },
     "execution_count": 16,
     "metadata": {},
     "output_type": "execute_result"
    }
   ],
   "source": [
    "total.shape"
   ]
  },
  {
   "cell_type": "code",
   "execution_count": 17,
   "metadata": {},
   "outputs": [
    {
     "data": {
      "text/plain": [
       "ano                     0\n",
       "mes                     0\n",
       "tipoDespesa             0\n",
       "codDocumento            0\n",
       "tipoDocumento           0\n",
       "codTipoDocumento        0\n",
       "dataDocumento         270\n",
       "numDocumento            0\n",
       "valorDocumento          0\n",
       "urlDocumento         7803\n",
       "nomeFornecedor          0\n",
       "cnpjCpfFornecedor       0\n",
       "valorLiquido            0\n",
       "valorGlosa              0\n",
       "numRessarcimento        0\n",
       "codLote                 0\n",
       "parcela                 0\n",
       "id                      0\n",
       "dtype: int64"
      ]
     },
     "execution_count": 17,
     "metadata": {},
     "output_type": "execute_result"
    }
   ],
   "source": [
    "# verificando valores ausentes\n",
    "total.isnull().sum()"
   ]
  },
  {
   "cell_type": "code",
   "execution_count": 18,
   "metadata": {},
   "outputs": [],
   "source": [
    "# Removendo os atributos que possuem valores ausentes para esse exemplo.\n",
    "del total['dataDocumento']\n",
    "del total['urlDocumento']"
   ]
  },
  {
   "cell_type": "code",
   "execution_count": 19,
   "metadata": {},
   "outputs": [
    {
     "data": {
      "text/html": [
       "<div>\n",
       "<style scoped>\n",
       "    .dataframe tbody tr th:only-of-type {\n",
       "        vertical-align: middle;\n",
       "    }\n",
       "\n",
       "    .dataframe tbody tr th {\n",
       "        vertical-align: top;\n",
       "    }\n",
       "\n",
       "    .dataframe thead th {\n",
       "        text-align: right;\n",
       "    }\n",
       "</style>\n",
       "<table border=\"1\" class=\"dataframe\">\n",
       "  <thead>\n",
       "    <tr style=\"text-align: right;\">\n",
       "      <th></th>\n",
       "      <th>ano</th>\n",
       "      <th>mes</th>\n",
       "      <th>tipoDespesa</th>\n",
       "      <th>codDocumento</th>\n",
       "      <th>tipoDocumento</th>\n",
       "      <th>codTipoDocumento</th>\n",
       "      <th>numDocumento</th>\n",
       "      <th>valorDocumento</th>\n",
       "      <th>nomeFornecedor</th>\n",
       "      <th>cnpjCpfFornecedor</th>\n",
       "      <th>valorLiquido</th>\n",
       "      <th>valorGlosa</th>\n",
       "      <th>numRessarcimento</th>\n",
       "      <th>codLote</th>\n",
       "      <th>parcela</th>\n",
       "      <th>id</th>\n",
       "    </tr>\n",
       "  </thead>\n",
       "  <tbody>\n",
       "    <tr>\n",
       "      <th>0</th>\n",
       "      <td>2023.0</td>\n",
       "      <td>5.0</td>\n",
       "      <td>MANUTENÇÃO DE ESCRITÓRIO DE APOIO À ATIVIDADE ...</td>\n",
       "      <td>7552621.0</td>\n",
       "      <td>Nota Fiscal</td>\n",
       "      <td>0.0</td>\n",
       "      <td>11533052023001</td>\n",
       "      <td>43.2</td>\n",
       "      <td>AGUAS CUIABA S.A</td>\n",
       "      <td>14995581000153</td>\n",
       "      <td>43.2</td>\n",
       "      <td>0.0</td>\n",
       "      <td></td>\n",
       "      <td>1938600.0</td>\n",
       "      <td>0.0</td>\n",
       "      <td>220593</td>\n",
       "    </tr>\n",
       "    <tr>\n",
       "      <th>1</th>\n",
       "      <td>2023.0</td>\n",
       "      <td>6.0</td>\n",
       "      <td>MANUTENÇÃO DE ESCRITÓRIO DE APOIO À ATIVIDADE ...</td>\n",
       "      <td>7587236.0</td>\n",
       "      <td>Recibos/Outros</td>\n",
       "      <td>1.0</td>\n",
       "      <td>11533062023001</td>\n",
       "      <td>43.2</td>\n",
       "      <td>AGUAS CUIABA S.A</td>\n",
       "      <td>14995581000153</td>\n",
       "      <td>43.2</td>\n",
       "      <td>0.0</td>\n",
       "      <td></td>\n",
       "      <td>1957493.0</td>\n",
       "      <td>0.0</td>\n",
       "      <td>220593</td>\n",
       "    </tr>\n",
       "    <tr>\n",
       "      <th>2</th>\n",
       "      <td>2023.0</td>\n",
       "      <td>7.0</td>\n",
       "      <td>MANUTENÇÃO DE ESCRITÓRIO DE APOIO À ATIVIDADE ...</td>\n",
       "      <td>7587239.0</td>\n",
       "      <td>Nota Fiscal</td>\n",
       "      <td>0.0</td>\n",
       "      <td>11533072023001</td>\n",
       "      <td>43.2</td>\n",
       "      <td>AGUAS CUIABA S.A</td>\n",
       "      <td>14995581000153</td>\n",
       "      <td>43.2</td>\n",
       "      <td>0.0</td>\n",
       "      <td></td>\n",
       "      <td>1957494.0</td>\n",
       "      <td>0.0</td>\n",
       "      <td>220593</td>\n",
       "    </tr>\n",
       "    <tr>\n",
       "      <th>3</th>\n",
       "      <td>2023.0</td>\n",
       "      <td>8.0</td>\n",
       "      <td>MANUTENÇÃO DE ESCRITÓRIO DE APOIO À ATIVIDADE ...</td>\n",
       "      <td>7605225.0</td>\n",
       "      <td>Nota Fiscal</td>\n",
       "      <td>0.0</td>\n",
       "      <td>11533082023001</td>\n",
       "      <td>43.2</td>\n",
       "      <td>AGUAS CUIABA S.A</td>\n",
       "      <td>14995581000153</td>\n",
       "      <td>43.2</td>\n",
       "      <td>0.0</td>\n",
       "      <td></td>\n",
       "      <td>1966665.0</td>\n",
       "      <td>0.0</td>\n",
       "      <td>220593</td>\n",
       "    </tr>\n",
       "    <tr>\n",
       "      <th>4</th>\n",
       "      <td>2023.0</td>\n",
       "      <td>4.0</td>\n",
       "      <td>MANUTENÇÃO DE ESCRITÓRIO DE APOIO À ATIVIDADE ...</td>\n",
       "      <td>7538426.0</td>\n",
       "      <td>Nota Fiscal</td>\n",
       "      <td>0.0</td>\n",
       "      <td>s/n</td>\n",
       "      <td>43.2</td>\n",
       "      <td>AGUAS CUIABA S.A</td>\n",
       "      <td>14995581000153</td>\n",
       "      <td>43.2</td>\n",
       "      <td>0.0</td>\n",
       "      <td></td>\n",
       "      <td>1931086.0</td>\n",
       "      <td>0.0</td>\n",
       "      <td>220593</td>\n",
       "    </tr>\n",
       "  </tbody>\n",
       "</table>\n",
       "</div>"
      ],
      "text/plain": [
       "      ano  mes                                        tipoDespesa  \\\n",
       "0  2023.0  5.0  MANUTENÇÃO DE ESCRITÓRIO DE APOIO À ATIVIDADE ...   \n",
       "1  2023.0  6.0  MANUTENÇÃO DE ESCRITÓRIO DE APOIO À ATIVIDADE ...   \n",
       "2  2023.0  7.0  MANUTENÇÃO DE ESCRITÓRIO DE APOIO À ATIVIDADE ...   \n",
       "3  2023.0  8.0  MANUTENÇÃO DE ESCRITÓRIO DE APOIO À ATIVIDADE ...   \n",
       "4  2023.0  4.0  MANUTENÇÃO DE ESCRITÓRIO DE APOIO À ATIVIDADE ...   \n",
       "\n",
       "   codDocumento   tipoDocumento  codTipoDocumento    numDocumento  \\\n",
       "0     7552621.0     Nota Fiscal               0.0  11533052023001   \n",
       "1     7587236.0  Recibos/Outros               1.0  11533062023001   \n",
       "2     7587239.0     Nota Fiscal               0.0  11533072023001   \n",
       "3     7605225.0     Nota Fiscal               0.0  11533082023001   \n",
       "4     7538426.0     Nota Fiscal               0.0             s/n   \n",
       "\n",
       "   valorDocumento    nomeFornecedor cnpjCpfFornecedor  valorLiquido  \\\n",
       "0            43.2  AGUAS CUIABA S.A    14995581000153          43.2   \n",
       "1            43.2  AGUAS CUIABA S.A    14995581000153          43.2   \n",
       "2            43.2  AGUAS CUIABA S.A    14995581000153          43.2   \n",
       "3            43.2  AGUAS CUIABA S.A    14995581000153          43.2   \n",
       "4            43.2  AGUAS CUIABA S.A    14995581000153          43.2   \n",
       "\n",
       "   valorGlosa numRessarcimento    codLote  parcela      id  \n",
       "0         0.0                   1938600.0      0.0  220593  \n",
       "1         0.0                   1957493.0      0.0  220593  \n",
       "2         0.0                   1957494.0      0.0  220593  \n",
       "3         0.0                   1966665.0      0.0  220593  \n",
       "4         0.0                   1931086.0      0.0  220593  "
      ]
     },
     "execution_count": 19,
     "metadata": {},
     "output_type": "execute_result"
    }
   ],
   "source": [
    "total.head()"
   ]
  },
  {
   "cell_type": "code",
   "execution_count": 20,
   "metadata": {},
   "outputs": [
    {
     "data": {
      "text/plain": [
       "     42314\n",
       "0     6709\n",
       "Name: numRessarcimento, dtype: int64"
      ]
     },
     "execution_count": 20,
     "metadata": {},
     "output_type": "execute_result"
    }
   ],
   "source": [
    "# verificando a distribuição do atributo numRessarcimento\n",
    "total.numRessarcimento.value_counts()"
   ]
  },
  {
   "cell_type": "markdown",
   "metadata": {},
   "source": [
    "* **nesse exemplo vamos remover o atributo 'numRessarcimento' também**."
   ]
  },
  {
   "cell_type": "code",
   "execution_count": 21,
   "metadata": {},
   "outputs": [],
   "source": [
    "del total['numRessarcimento']"
   ]
  },
  {
   "cell_type": "code",
   "execution_count": 22,
   "metadata": {},
   "outputs": [
    {
     "data": {
      "text/html": [
       "<div>\n",
       "<style scoped>\n",
       "    .dataframe tbody tr th:only-of-type {\n",
       "        vertical-align: middle;\n",
       "    }\n",
       "\n",
       "    .dataframe tbody tr th {\n",
       "        vertical-align: top;\n",
       "    }\n",
       "\n",
       "    .dataframe thead th {\n",
       "        text-align: right;\n",
       "    }\n",
       "</style>\n",
       "<table border=\"1\" class=\"dataframe\">\n",
       "  <thead>\n",
       "    <tr style=\"text-align: right;\">\n",
       "      <th></th>\n",
       "      <th>ano</th>\n",
       "      <th>mes</th>\n",
       "      <th>tipoDespesa</th>\n",
       "      <th>codDocumento</th>\n",
       "      <th>tipoDocumento</th>\n",
       "      <th>codTipoDocumento</th>\n",
       "      <th>numDocumento</th>\n",
       "      <th>valorDocumento</th>\n",
       "      <th>nomeFornecedor</th>\n",
       "      <th>cnpjCpfFornecedor</th>\n",
       "      <th>valorLiquido</th>\n",
       "      <th>valorGlosa</th>\n",
       "      <th>codLote</th>\n",
       "      <th>parcela</th>\n",
       "      <th>id</th>\n",
       "    </tr>\n",
       "  </thead>\n",
       "  <tbody>\n",
       "    <tr>\n",
       "      <th>0</th>\n",
       "      <td>2023.0</td>\n",
       "      <td>5.0</td>\n",
       "      <td>MANUTENÇÃO DE ESCRITÓRIO DE APOIO À ATIVIDADE ...</td>\n",
       "      <td>7552621.0</td>\n",
       "      <td>Nota Fiscal</td>\n",
       "      <td>0.0</td>\n",
       "      <td>11533052023001</td>\n",
       "      <td>43.2</td>\n",
       "      <td>AGUAS CUIABA S.A</td>\n",
       "      <td>14995581000153</td>\n",
       "      <td>43.2</td>\n",
       "      <td>0.0</td>\n",
       "      <td>1938600.0</td>\n",
       "      <td>0.0</td>\n",
       "      <td>220593</td>\n",
       "    </tr>\n",
       "    <tr>\n",
       "      <th>1</th>\n",
       "      <td>2023.0</td>\n",
       "      <td>6.0</td>\n",
       "      <td>MANUTENÇÃO DE ESCRITÓRIO DE APOIO À ATIVIDADE ...</td>\n",
       "      <td>7587236.0</td>\n",
       "      <td>Recibos/Outros</td>\n",
       "      <td>1.0</td>\n",
       "      <td>11533062023001</td>\n",
       "      <td>43.2</td>\n",
       "      <td>AGUAS CUIABA S.A</td>\n",
       "      <td>14995581000153</td>\n",
       "      <td>43.2</td>\n",
       "      <td>0.0</td>\n",
       "      <td>1957493.0</td>\n",
       "      <td>0.0</td>\n",
       "      <td>220593</td>\n",
       "    </tr>\n",
       "    <tr>\n",
       "      <th>2</th>\n",
       "      <td>2023.0</td>\n",
       "      <td>7.0</td>\n",
       "      <td>MANUTENÇÃO DE ESCRITÓRIO DE APOIO À ATIVIDADE ...</td>\n",
       "      <td>7587239.0</td>\n",
       "      <td>Nota Fiscal</td>\n",
       "      <td>0.0</td>\n",
       "      <td>11533072023001</td>\n",
       "      <td>43.2</td>\n",
       "      <td>AGUAS CUIABA S.A</td>\n",
       "      <td>14995581000153</td>\n",
       "      <td>43.2</td>\n",
       "      <td>0.0</td>\n",
       "      <td>1957494.0</td>\n",
       "      <td>0.0</td>\n",
       "      <td>220593</td>\n",
       "    </tr>\n",
       "    <tr>\n",
       "      <th>3</th>\n",
       "      <td>2023.0</td>\n",
       "      <td>8.0</td>\n",
       "      <td>MANUTENÇÃO DE ESCRITÓRIO DE APOIO À ATIVIDADE ...</td>\n",
       "      <td>7605225.0</td>\n",
       "      <td>Nota Fiscal</td>\n",
       "      <td>0.0</td>\n",
       "      <td>11533082023001</td>\n",
       "      <td>43.2</td>\n",
       "      <td>AGUAS CUIABA S.A</td>\n",
       "      <td>14995581000153</td>\n",
       "      <td>43.2</td>\n",
       "      <td>0.0</td>\n",
       "      <td>1966665.0</td>\n",
       "      <td>0.0</td>\n",
       "      <td>220593</td>\n",
       "    </tr>\n",
       "    <tr>\n",
       "      <th>4</th>\n",
       "      <td>2023.0</td>\n",
       "      <td>4.0</td>\n",
       "      <td>MANUTENÇÃO DE ESCRITÓRIO DE APOIO À ATIVIDADE ...</td>\n",
       "      <td>7538426.0</td>\n",
       "      <td>Nota Fiscal</td>\n",
       "      <td>0.0</td>\n",
       "      <td>s/n</td>\n",
       "      <td>43.2</td>\n",
       "      <td>AGUAS CUIABA S.A</td>\n",
       "      <td>14995581000153</td>\n",
       "      <td>43.2</td>\n",
       "      <td>0.0</td>\n",
       "      <td>1931086.0</td>\n",
       "      <td>0.0</td>\n",
       "      <td>220593</td>\n",
       "    </tr>\n",
       "  </tbody>\n",
       "</table>\n",
       "</div>"
      ],
      "text/plain": [
       "      ano  mes                                        tipoDespesa  \\\n",
       "0  2023.0  5.0  MANUTENÇÃO DE ESCRITÓRIO DE APOIO À ATIVIDADE ...   \n",
       "1  2023.0  6.0  MANUTENÇÃO DE ESCRITÓRIO DE APOIO À ATIVIDADE ...   \n",
       "2  2023.0  7.0  MANUTENÇÃO DE ESCRITÓRIO DE APOIO À ATIVIDADE ...   \n",
       "3  2023.0  8.0  MANUTENÇÃO DE ESCRITÓRIO DE APOIO À ATIVIDADE ...   \n",
       "4  2023.0  4.0  MANUTENÇÃO DE ESCRITÓRIO DE APOIO À ATIVIDADE ...   \n",
       "\n",
       "   codDocumento   tipoDocumento  codTipoDocumento    numDocumento  \\\n",
       "0     7552621.0     Nota Fiscal               0.0  11533052023001   \n",
       "1     7587236.0  Recibos/Outros               1.0  11533062023001   \n",
       "2     7587239.0     Nota Fiscal               0.0  11533072023001   \n",
       "3     7605225.0     Nota Fiscal               0.0  11533082023001   \n",
       "4     7538426.0     Nota Fiscal               0.0             s/n   \n",
       "\n",
       "   valorDocumento    nomeFornecedor cnpjCpfFornecedor  valorLiquido  \\\n",
       "0            43.2  AGUAS CUIABA S.A    14995581000153          43.2   \n",
       "1            43.2  AGUAS CUIABA S.A    14995581000153          43.2   \n",
       "2            43.2  AGUAS CUIABA S.A    14995581000153          43.2   \n",
       "3            43.2  AGUAS CUIABA S.A    14995581000153          43.2   \n",
       "4            43.2  AGUAS CUIABA S.A    14995581000153          43.2   \n",
       "\n",
       "   valorGlosa    codLote  parcela      id  \n",
       "0         0.0  1938600.0      0.0  220593  \n",
       "1         0.0  1957493.0      0.0  220593  \n",
       "2         0.0  1957494.0      0.0  220593  \n",
       "3         0.0  1966665.0      0.0  220593  \n",
       "4         0.0  1931086.0      0.0  220593  "
      ]
     },
     "execution_count": 22,
     "metadata": {},
     "output_type": "execute_result"
    }
   ],
   "source": [
    "total.head()"
   ]
  },
  {
   "cell_type": "code",
   "execution_count": 23,
   "metadata": {},
   "outputs": [
    {
     "name": "stdout",
     "output_type": "stream",
     "text": [
      "(49023, 15)\n",
      "(49023, 15)\n"
     ]
    }
   ],
   "source": [
    "# Removendo linhas duplicadas se houver.\n",
    "print(total.shape)\n",
    "total.drop_duplicates()\n",
    "print(total.shape)"
   ]
  },
  {
   "cell_type": "code",
   "execution_count": 24,
   "metadata": {},
   "outputs": [
    {
     "name": "stdout",
     "output_type": "stream",
     "text": [
      "<class 'pandas.core.frame.DataFrame'>\n",
      "Int64Index: 49023 entries, 0 to 99\n",
      "Data columns (total 15 columns):\n",
      " #   Column             Non-Null Count  Dtype  \n",
      "---  ------             --------------  -----  \n",
      " 0   ano                49023 non-null  float64\n",
      " 1   mes                49023 non-null  float64\n",
      " 2   tipoDespesa        49023 non-null  object \n",
      " 3   codDocumento       49023 non-null  float64\n",
      " 4   tipoDocumento      49023 non-null  object \n",
      " 5   codTipoDocumento   49023 non-null  float64\n",
      " 6   numDocumento       49023 non-null  object \n",
      " 7   valorDocumento     49023 non-null  float64\n",
      " 8   nomeFornecedor     49023 non-null  object \n",
      " 9   cnpjCpfFornecedor  49023 non-null  object \n",
      " 10  valorLiquido       49023 non-null  float64\n",
      " 11  valorGlosa         49023 non-null  float64\n",
      " 12  codLote            49023 non-null  float64\n",
      " 13  parcela            49023 non-null  float64\n",
      " 14  id                 49023 non-null  int64  \n",
      "dtypes: float64(9), int64(1), object(5)\n",
      "memory usage: 6.0+ MB\n"
     ]
    }
   ],
   "source": [
    "total.info()"
   ]
  },
  {
   "cell_type": "code",
   "execution_count": 25,
   "metadata": {},
   "outputs": [
    {
     "data": {
      "text/html": [
       "<div>\n",
       "<style scoped>\n",
       "    .dataframe tbody tr th:only-of-type {\n",
       "        vertical-align: middle;\n",
       "    }\n",
       "\n",
       "    .dataframe tbody tr th {\n",
       "        vertical-align: top;\n",
       "    }\n",
       "\n",
       "    .dataframe thead th {\n",
       "        text-align: right;\n",
       "    }\n",
       "</style>\n",
       "<table border=\"1\" class=\"dataframe\">\n",
       "  <thead>\n",
       "    <tr style=\"text-align: right;\">\n",
       "      <th></th>\n",
       "      <th>ano</th>\n",
       "      <th>mes</th>\n",
       "      <th>codDocumento</th>\n",
       "      <th>codTipoDocumento</th>\n",
       "      <th>valorDocumento</th>\n",
       "      <th>valorLiquido</th>\n",
       "      <th>valorGlosa</th>\n",
       "      <th>codLote</th>\n",
       "      <th>parcela</th>\n",
       "      <th>id</th>\n",
       "    </tr>\n",
       "  </thead>\n",
       "  <tbody>\n",
       "    <tr>\n",
       "      <th>count</th>\n",
       "      <td>49023.0</td>\n",
       "      <td>49023.000000</td>\n",
       "      <td>4.902300e+04</td>\n",
       "      <td>49023.000000</td>\n",
       "      <td>49023.000000</td>\n",
       "      <td>49023.000000</td>\n",
       "      <td>49023.000000</td>\n",
       "      <td>4.902300e+04</td>\n",
       "      <td>49023.000000</td>\n",
       "      <td>49023.000000</td>\n",
       "    </tr>\n",
       "    <tr>\n",
       "      <th>mean</th>\n",
       "      <td>2023.0</td>\n",
       "      <td>4.483120</td>\n",
       "      <td>6.539757e+06</td>\n",
       "      <td>1.790486</td>\n",
       "      <td>1348.023479</td>\n",
       "      <td>1341.657333</td>\n",
       "      <td>6.317398</td>\n",
       "      <td>1.670704e+06</td>\n",
       "      <td>0.000041</td>\n",
       "      <td>180450.891663</td>\n",
       "    </tr>\n",
       "    <tr>\n",
       "      <th>std</th>\n",
       "      <td>0.0</td>\n",
       "      <td>2.432382</td>\n",
       "      <td>2.533548e+06</td>\n",
       "      <td>1.880205</td>\n",
       "      <td>3338.725924</td>\n",
       "      <td>3330.063181</td>\n",
       "      <td>127.441130</td>\n",
       "      <td>6.655180e+05</td>\n",
       "      <td>0.006387</td>\n",
       "      <td>49941.876047</td>\n",
       "    </tr>\n",
       "    <tr>\n",
       "      <th>min</th>\n",
       "      <td>2023.0</td>\n",
       "      <td>1.000000</td>\n",
       "      <td>0.000000e+00</td>\n",
       "      <td>0.000000</td>\n",
       "      <td>-1812.260000</td>\n",
       "      <td>-1812.260000</td>\n",
       "      <td>0.000000</td>\n",
       "      <td>0.000000e+00</td>\n",
       "      <td>0.000000</td>\n",
       "      <td>62881.000000</td>\n",
       "    </tr>\n",
       "    <tr>\n",
       "      <th>25%</th>\n",
       "      <td>2023.0</td>\n",
       "      <td>2.000000</td>\n",
       "      <td>7.500292e+06</td>\n",
       "      <td>0.000000</td>\n",
       "      <td>170.000000</td>\n",
       "      <td>168.220000</td>\n",
       "      <td>0.000000</td>\n",
       "      <td>1.909818e+06</td>\n",
       "      <td>0.000000</td>\n",
       "      <td>160558.000000</td>\n",
       "    </tr>\n",
       "    <tr>\n",
       "      <th>50%</th>\n",
       "      <td>2023.0</td>\n",
       "      <td>4.000000</td>\n",
       "      <td>7.536204e+06</td>\n",
       "      <td>1.000000</td>\n",
       "      <td>270.050000</td>\n",
       "      <td>269.250000</td>\n",
       "      <td>0.000000</td>\n",
       "      <td>1.929519e+06</td>\n",
       "      <td>0.000000</td>\n",
       "      <td>204456.000000</td>\n",
       "    </tr>\n",
       "    <tr>\n",
       "      <th>75%</th>\n",
       "      <td>2023.0</td>\n",
       "      <td>6.000000</td>\n",
       "      <td>7.573799e+06</td>\n",
       "      <td>4.000000</td>\n",
       "      <td>1144.740000</td>\n",
       "      <td>1132.080000</td>\n",
       "      <td>0.000000</td>\n",
       "      <td>1.950428e+06</td>\n",
       "      <td>0.000000</td>\n",
       "      <td>220588.000000</td>\n",
       "    </tr>\n",
       "    <tr>\n",
       "      <th>max</th>\n",
       "      <td>2023.0</td>\n",
       "      <td>9.000000</td>\n",
       "      <td>7.613905e+06</td>\n",
       "      <td>4.000000</td>\n",
       "      <td>124000.000000</td>\n",
       "      <td>124000.000000</td>\n",
       "      <td>14050.000000</td>\n",
       "      <td>1.971259e+06</td>\n",
       "      <td>1.000000</td>\n",
       "      <td>226553.000000</td>\n",
       "    </tr>\n",
       "  </tbody>\n",
       "</table>\n",
       "</div>"
      ],
      "text/plain": [
       "           ano           mes  codDocumento  codTipoDocumento  valorDocumento  \\\n",
       "count  49023.0  49023.000000  4.902300e+04      49023.000000    49023.000000   \n",
       "mean    2023.0      4.483120  6.539757e+06          1.790486     1348.023479   \n",
       "std        0.0      2.432382  2.533548e+06          1.880205     3338.725924   \n",
       "min     2023.0      1.000000  0.000000e+00          0.000000    -1812.260000   \n",
       "25%     2023.0      2.000000  7.500292e+06          0.000000      170.000000   \n",
       "50%     2023.0      4.000000  7.536204e+06          1.000000      270.050000   \n",
       "75%     2023.0      6.000000  7.573799e+06          4.000000     1144.740000   \n",
       "max     2023.0      9.000000  7.613905e+06          4.000000   124000.000000   \n",
       "\n",
       "        valorLiquido    valorGlosa       codLote       parcela             id  \n",
       "count   49023.000000  49023.000000  4.902300e+04  49023.000000   49023.000000  \n",
       "mean     1341.657333      6.317398  1.670704e+06      0.000041  180450.891663  \n",
       "std      3330.063181    127.441130  6.655180e+05      0.006387   49941.876047  \n",
       "min     -1812.260000      0.000000  0.000000e+00      0.000000   62881.000000  \n",
       "25%       168.220000      0.000000  1.909818e+06      0.000000  160558.000000  \n",
       "50%       269.250000      0.000000  1.929519e+06      0.000000  204456.000000  \n",
       "75%      1132.080000      0.000000  1.950428e+06      0.000000  220588.000000  \n",
       "max    124000.000000  14050.000000  1.971259e+06      1.000000  226553.000000  "
      ]
     },
     "execution_count": 25,
     "metadata": {},
     "output_type": "execute_result"
    }
   ],
   "source": [
    "total.describe()"
   ]
  },
  {
   "cell_type": "code",
   "execution_count": 26,
   "metadata": {},
   "outputs": [
    {
     "data": {
      "text/plain": [
       "TAM                                                              3185\n",
       "GOL                                                              1385\n",
       "031 - 302 NORTE - CASCOL COMBUSTIVEIS PARA VEICULOS LTDA          950\n",
       "AZUL                                                              856\n",
       "AUTO POSTO CINCO ESTRELAS LTDA                                    678\n",
       "063 - 311 SUL - CASCOL COMBUSTIVEIS PARA VEICULOS LTDA            603\n",
       "UBER DO BRASIL TECNOLOGIA LTDA.                                   580\n",
       "WMS COMERCIO DE ARTIGOS DE PAPELARIA LTDA-ME                      536\n",
       "AUTO POSTO AEROPORTO LTDA                                         506\n",
       "AUTO POSTO 303 NORTE LTDA                                         488\n",
       "CELULAR FUNCIONAL                                                 457\n",
       "Telefônica Brasil S.A. VIVO                                       404\n",
       "AMORETTO CAFES EXPRESSO LTDA                                      324\n",
       "076 - MELHOR 10 - CASCOL COMBUSTIVEIS PARA VEICULOS LTDA          294\n",
       "RAMAL                                                             270\n",
       "CEMIG DISTRIBUIÇÃO S.A.                                           259\n",
       "POSTO DA TORRE EIRELI EPP                                         256\n",
       "Claro NXT Telecomunicações S.A                                    233\n",
       "AUTO POSTO CONCORDE LTDA                                          231\n",
       "DRA4 DERIVADOS DE PETROLEO LTDA                                   230\n",
       "CEEE - Companhia Estadual de Distribuição de Energia Elétrica     217\n",
       "COMPANHIA DE ELETRICIDADE DO ESTADO DA BAHIA                      213\n",
       "BRASAL COMBUSTIVEIS LTDA                                          201\n",
       "BELIZE COMPANY AUTO POSTO LTDA                                    172\n",
       "AUTO POSTO 302 SUL LTDA                                           167\n",
       "Name: nomeFornecedor, dtype: int64"
      ]
     },
     "execution_count": 26,
     "metadata": {},
     "output_type": "execute_result"
    }
   ],
   "source": [
    "#Verificando a distribuição por fornecedores.\n",
    "total.nomeFornecedor.value_counts().head(25)"
   ]
  },
  {
   "cell_type": "code",
   "execution_count": 27,
   "metadata": {},
   "outputs": [],
   "source": [
    "#Convertendo a coluna em uma lista para podermos realizar uma verificação mais detalhada\n",
    "fornecedores = total.nomeFornecedor.value_counts().index.tolist()"
   ]
  },
  {
   "cell_type": "code",
   "execution_count": 28,
   "metadata": {},
   "outputs": [
    {
     "data": {
      "text/plain": [
       "['ÍRIO JOSÉ FELIPE DIAS LTDA',\n",
       " 'É RIO PRETO COMUNICAÇÃO E MARKETING DIGITAL EIRELE',\n",
       " 'Águas de Joinville',\n",
       " 'zeta  paineis ltda',\n",
       " 'viviani silveira',\n",
       " 'viu internet',\n",
       " 'viewclinic ltda',\n",
       " 'viação novo horizonte LTDA',\n",
       " 'via Brasil MT-246 Concessionaria',\n",
       " 'valdiney maciel da silva']"
      ]
     },
     "execution_count": 28,
     "metadata": {},
     "output_type": "execute_result"
    }
   ],
   "source": [
    "# Ordenando para comparar erros de digitação etc...\n",
    "fornecedores.sort(reverse=True)\n",
    "fornecedores[:10]"
   ]
  },
  {
   "cell_type": "markdown",
   "metadata": {},
   "source": [
    "* **Existem alguns problemas aqui: erros de digitação, texto com letras minúsculas e maiúsculas misturadas, problemas de acentuação e casos em que \"LTDA\" e \"S.A.\" foram acrescentados e casos em que não foram.**\n",
    "* **Vamos remover todas as acentuações, e formatar tudo em letra maiúscula primeiro, depois os espaços e vamos remover tudo que contiver LTDA, S.A e depois dessas informações também para tentarmos corrigir a maior quantidade de informações incorretas.**"
   ]
  },
  {
   "cell_type": "code",
   "execution_count": 30,
   "metadata": {},
   "outputs": [],
   "source": [
    "from unidecode import unidecode\n",
    "# Removendo todas as acentuações e os espaços duplos\n",
    "total.nomeFornecedor = [unidecode(fornecedor).strip().upper() for fornecedor in total.nomeFornecedor]"
   ]
  },
  {
   "cell_type": "code",
   "execution_count": 31,
   "metadata": {},
   "outputs": [],
   "source": [
    "# Removento tudo que LTDA e S.A e o que houver após também.\n",
    "import re\n",
    "exp_regurar = r\"(LTDA|S\\.A).*$\" # \"LTDA\", \"S.A\" texto a ser removido\n",
    "total.nomeFornecedor = [re.sub(exp_regurar,\"\",fornecedor).strip() for fornecedor in total.nomeFornecedor]"
   ]
  },
  {
   "cell_type": "code",
   "execution_count": 32,
   "metadata": {},
   "outputs": [
    {
     "data": {
      "text/plain": [
       "TAM                                                              3185\n",
       "GOL                                                              1385\n",
       "031 - 302 NORTE - CASCOL COMBUSTIVEIS PARA VEICULOS               950\n",
       "AZUL                                                              856\n",
       "AUTO POSTO CINCO ESTRELAS                                         694\n",
       "063 - 311 SUL - CASCOL COMBUSTIVEIS PARA VEICULOS                 603\n",
       "UBER DO BRASIL TECNOLOGIA                                         582\n",
       "TELEFONICA BRASIL                                                 581\n",
       "WMS COMERCIO DE ARTIGOS DE PAPELARIA                              538\n",
       "AUTO POSTO AEROPORTO                                              506\n",
       "AUTO POSTO 303 NORTE                                              488\n",
       "CELULAR FUNCIONAL                                                 457\n",
       "CLARO NXT TELECOMUNICACOES                                        371\n",
       "AMORETTO CAFES EXPRESSO                                           324\n",
       "076 - MELHOR 10 - CASCOL COMBUSTIVEIS PARA VEICULOS               294\n",
       "RAMAL                                                             270\n",
       "CEMIG DISTRIBUICAO                                                259\n",
       "POSTO DA TORRE EIRELI EPP                                         256\n",
       "AUTO POSTO CONCORDE                                               231\n",
       "DRA4 DERIVADOS DE PETROLEO                                        230\n",
       "CEEE - COMPANHIA ESTADUAL DE DISTRIBUICAO DE ENERGIA ELETRICA     217\n",
       "COMPANHIA DE ELETRICIDADE DO ESTADO DA BAHIA                      213\n",
       "BRASAL COMBUSTIVEIS                                               201\n",
       "BELIZE COMPANY AUTO POSTO                                         172\n",
       "AUTO POSTO 302 SUL                                                167\n",
       "Name: nomeFornecedor, dtype: int64"
      ]
     },
     "execution_count": 32,
     "metadata": {},
     "output_type": "execute_result"
    }
   ],
   "source": [
    "# Conferindo a distribuição.\n",
    "total.nomeFornecedor.value_counts().head(25)"
   ]
  },
  {
   "cell_type": "code",
   "execution_count": 33,
   "metadata": {},
   "outputs": [
    {
     "data": {
      "text/html": [
       "<div>\n",
       "<style scoped>\n",
       "    .dataframe tbody tr th:only-of-type {\n",
       "        vertical-align: middle;\n",
       "    }\n",
       "\n",
       "    .dataframe tbody tr th {\n",
       "        vertical-align: top;\n",
       "    }\n",
       "\n",
       "    .dataframe thead th {\n",
       "        text-align: right;\n",
       "    }\n",
       "</style>\n",
       "<table border=\"1\" class=\"dataframe\">\n",
       "  <thead>\n",
       "    <tr style=\"text-align: right;\">\n",
       "      <th></th>\n",
       "      <th>ano</th>\n",
       "      <th>mes</th>\n",
       "      <th>tipoDespesa</th>\n",
       "      <th>codDocumento</th>\n",
       "      <th>tipoDocumento</th>\n",
       "      <th>codTipoDocumento</th>\n",
       "      <th>numDocumento</th>\n",
       "      <th>valorDocumento</th>\n",
       "      <th>nomeFornecedor</th>\n",
       "      <th>cnpjCpfFornecedor</th>\n",
       "      <th>valorLiquido</th>\n",
       "      <th>valorGlosa</th>\n",
       "      <th>codLote</th>\n",
       "      <th>parcela</th>\n",
       "      <th>id</th>\n",
       "    </tr>\n",
       "  </thead>\n",
       "  <tbody>\n",
       "    <tr>\n",
       "      <th>0</th>\n",
       "      <td>2023.0</td>\n",
       "      <td>5.0</td>\n",
       "      <td>MANUTENÇÃO DE ESCRITÓRIO DE APOIO À ATIVIDADE ...</td>\n",
       "      <td>7552621.0</td>\n",
       "      <td>Nota Fiscal</td>\n",
       "      <td>0.0</td>\n",
       "      <td>11533052023001</td>\n",
       "      <td>43.2</td>\n",
       "      <td>AGUAS CUIABA</td>\n",
       "      <td>14995581000153</td>\n",
       "      <td>43.2</td>\n",
       "      <td>0.0</td>\n",
       "      <td>1938600.0</td>\n",
       "      <td>0.0</td>\n",
       "      <td>220593</td>\n",
       "    </tr>\n",
       "    <tr>\n",
       "      <th>1</th>\n",
       "      <td>2023.0</td>\n",
       "      <td>6.0</td>\n",
       "      <td>MANUTENÇÃO DE ESCRITÓRIO DE APOIO À ATIVIDADE ...</td>\n",
       "      <td>7587236.0</td>\n",
       "      <td>Recibos/Outros</td>\n",
       "      <td>1.0</td>\n",
       "      <td>11533062023001</td>\n",
       "      <td>43.2</td>\n",
       "      <td>AGUAS CUIABA</td>\n",
       "      <td>14995581000153</td>\n",
       "      <td>43.2</td>\n",
       "      <td>0.0</td>\n",
       "      <td>1957493.0</td>\n",
       "      <td>0.0</td>\n",
       "      <td>220593</td>\n",
       "    </tr>\n",
       "    <tr>\n",
       "      <th>2</th>\n",
       "      <td>2023.0</td>\n",
       "      <td>7.0</td>\n",
       "      <td>MANUTENÇÃO DE ESCRITÓRIO DE APOIO À ATIVIDADE ...</td>\n",
       "      <td>7587239.0</td>\n",
       "      <td>Nota Fiscal</td>\n",
       "      <td>0.0</td>\n",
       "      <td>11533072023001</td>\n",
       "      <td>43.2</td>\n",
       "      <td>AGUAS CUIABA</td>\n",
       "      <td>14995581000153</td>\n",
       "      <td>43.2</td>\n",
       "      <td>0.0</td>\n",
       "      <td>1957494.0</td>\n",
       "      <td>0.0</td>\n",
       "      <td>220593</td>\n",
       "    </tr>\n",
       "    <tr>\n",
       "      <th>3</th>\n",
       "      <td>2023.0</td>\n",
       "      <td>8.0</td>\n",
       "      <td>MANUTENÇÃO DE ESCRITÓRIO DE APOIO À ATIVIDADE ...</td>\n",
       "      <td>7605225.0</td>\n",
       "      <td>Nota Fiscal</td>\n",
       "      <td>0.0</td>\n",
       "      <td>11533082023001</td>\n",
       "      <td>43.2</td>\n",
       "      <td>AGUAS CUIABA</td>\n",
       "      <td>14995581000153</td>\n",
       "      <td>43.2</td>\n",
       "      <td>0.0</td>\n",
       "      <td>1966665.0</td>\n",
       "      <td>0.0</td>\n",
       "      <td>220593</td>\n",
       "    </tr>\n",
       "    <tr>\n",
       "      <th>4</th>\n",
       "      <td>2023.0</td>\n",
       "      <td>4.0</td>\n",
       "      <td>MANUTENÇÃO DE ESCRITÓRIO DE APOIO À ATIVIDADE ...</td>\n",
       "      <td>7538426.0</td>\n",
       "      <td>Nota Fiscal</td>\n",
       "      <td>0.0</td>\n",
       "      <td>s/n</td>\n",
       "      <td>43.2</td>\n",
       "      <td>AGUAS CUIABA</td>\n",
       "      <td>14995581000153</td>\n",
       "      <td>43.2</td>\n",
       "      <td>0.0</td>\n",
       "      <td>1931086.0</td>\n",
       "      <td>0.0</td>\n",
       "      <td>220593</td>\n",
       "    </tr>\n",
       "  </tbody>\n",
       "</table>\n",
       "</div>"
      ],
      "text/plain": [
       "      ano  mes                                        tipoDespesa  \\\n",
       "0  2023.0  5.0  MANUTENÇÃO DE ESCRITÓRIO DE APOIO À ATIVIDADE ...   \n",
       "1  2023.0  6.0  MANUTENÇÃO DE ESCRITÓRIO DE APOIO À ATIVIDADE ...   \n",
       "2  2023.0  7.0  MANUTENÇÃO DE ESCRITÓRIO DE APOIO À ATIVIDADE ...   \n",
       "3  2023.0  8.0  MANUTENÇÃO DE ESCRITÓRIO DE APOIO À ATIVIDADE ...   \n",
       "4  2023.0  4.0  MANUTENÇÃO DE ESCRITÓRIO DE APOIO À ATIVIDADE ...   \n",
       "\n",
       "   codDocumento   tipoDocumento  codTipoDocumento    numDocumento  \\\n",
       "0     7552621.0     Nota Fiscal               0.0  11533052023001   \n",
       "1     7587236.0  Recibos/Outros               1.0  11533062023001   \n",
       "2     7587239.0     Nota Fiscal               0.0  11533072023001   \n",
       "3     7605225.0     Nota Fiscal               0.0  11533082023001   \n",
       "4     7538426.0     Nota Fiscal               0.0             s/n   \n",
       "\n",
       "   valorDocumento nomeFornecedor cnpjCpfFornecedor  valorLiquido  valorGlosa  \\\n",
       "0            43.2   AGUAS CUIABA    14995581000153          43.2         0.0   \n",
       "1            43.2   AGUAS CUIABA    14995581000153          43.2         0.0   \n",
       "2            43.2   AGUAS CUIABA    14995581000153          43.2         0.0   \n",
       "3            43.2   AGUAS CUIABA    14995581000153          43.2         0.0   \n",
       "4            43.2   AGUAS CUIABA    14995581000153          43.2         0.0   \n",
       "\n",
       "     codLote  parcela      id  \n",
       "0  1938600.0      0.0  220593  \n",
       "1  1957493.0      0.0  220593  \n",
       "2  1957494.0      0.0  220593  \n",
       "3  1966665.0      0.0  220593  \n",
       "4  1931086.0      0.0  220593  "
      ]
     },
     "execution_count": 33,
     "metadata": {},
     "output_type": "execute_result"
    }
   ],
   "source": [
    "total.head()"
   ]
  },
  {
   "cell_type": "markdown",
   "metadata": {},
   "source": [
    "* **Bom agora que já temos as tabelas deputados e gastos vamos realizar o merge em uma única tabela para depois realizarmos a etape de Load.**"
   ]
  },
  {
   "cell_type": "code",
   "execution_count": 34,
   "metadata": {},
   "outputs": [
    {
     "data": {
      "text/html": [
       "<div>\n",
       "<style scoped>\n",
       "    .dataframe tbody tr th:only-of-type {\n",
       "        vertical-align: middle;\n",
       "    }\n",
       "\n",
       "    .dataframe tbody tr th {\n",
       "        vertical-align: top;\n",
       "    }\n",
       "\n",
       "    .dataframe thead th {\n",
       "        text-align: right;\n",
       "    }\n",
       "</style>\n",
       "<table border=\"1\" class=\"dataframe\">\n",
       "  <thead>\n",
       "    <tr style=\"text-align: right;\">\n",
       "      <th></th>\n",
       "      <th>ano</th>\n",
       "      <th>mes</th>\n",
       "      <th>tipoDespesa</th>\n",
       "      <th>codDocumento</th>\n",
       "      <th>tipoDocumento</th>\n",
       "      <th>codTipoDocumento</th>\n",
       "      <th>numDocumento</th>\n",
       "      <th>valorDocumento</th>\n",
       "      <th>nomeFornecedor</th>\n",
       "      <th>cnpjCpfFornecedor</th>\n",
       "      <th>valorLiquido</th>\n",
       "      <th>valorGlosa</th>\n",
       "      <th>codLote</th>\n",
       "      <th>parcela</th>\n",
       "      <th>id</th>\n",
       "      <th>nome</th>\n",
       "      <th>siglaPartido</th>\n",
       "      <th>siglaUf</th>\n",
       "      <th>idLegislatura</th>\n",
       "    </tr>\n",
       "  </thead>\n",
       "  <tbody>\n",
       "    <tr>\n",
       "      <th>0</th>\n",
       "      <td>2023.0</td>\n",
       "      <td>5.0</td>\n",
       "      <td>MANUTENÇÃO DE ESCRITÓRIO DE APOIO À ATIVIDADE ...</td>\n",
       "      <td>7552621.0</td>\n",
       "      <td>Nota Fiscal</td>\n",
       "      <td>0.0</td>\n",
       "      <td>11533052023001</td>\n",
       "      <td>43.2</td>\n",
       "      <td>AGUAS CUIABA</td>\n",
       "      <td>14995581000153</td>\n",
       "      <td>43.2</td>\n",
       "      <td>0.0</td>\n",
       "      <td>1938600.0</td>\n",
       "      <td>0.0</td>\n",
       "      <td>220593</td>\n",
       "      <td>Abilio Brunini</td>\n",
       "      <td>PL</td>\n",
       "      <td>MT</td>\n",
       "      <td>57</td>\n",
       "    </tr>\n",
       "    <tr>\n",
       "      <th>1</th>\n",
       "      <td>2023.0</td>\n",
       "      <td>6.0</td>\n",
       "      <td>MANUTENÇÃO DE ESCRITÓRIO DE APOIO À ATIVIDADE ...</td>\n",
       "      <td>7587236.0</td>\n",
       "      <td>Recibos/Outros</td>\n",
       "      <td>1.0</td>\n",
       "      <td>11533062023001</td>\n",
       "      <td>43.2</td>\n",
       "      <td>AGUAS CUIABA</td>\n",
       "      <td>14995581000153</td>\n",
       "      <td>43.2</td>\n",
       "      <td>0.0</td>\n",
       "      <td>1957493.0</td>\n",
       "      <td>0.0</td>\n",
       "      <td>220593</td>\n",
       "      <td>Abilio Brunini</td>\n",
       "      <td>PL</td>\n",
       "      <td>MT</td>\n",
       "      <td>57</td>\n",
       "    </tr>\n",
       "    <tr>\n",
       "      <th>2</th>\n",
       "      <td>2023.0</td>\n",
       "      <td>7.0</td>\n",
       "      <td>MANUTENÇÃO DE ESCRITÓRIO DE APOIO À ATIVIDADE ...</td>\n",
       "      <td>7587239.0</td>\n",
       "      <td>Nota Fiscal</td>\n",
       "      <td>0.0</td>\n",
       "      <td>11533072023001</td>\n",
       "      <td>43.2</td>\n",
       "      <td>AGUAS CUIABA</td>\n",
       "      <td>14995581000153</td>\n",
       "      <td>43.2</td>\n",
       "      <td>0.0</td>\n",
       "      <td>1957494.0</td>\n",
       "      <td>0.0</td>\n",
       "      <td>220593</td>\n",
       "      <td>Abilio Brunini</td>\n",
       "      <td>PL</td>\n",
       "      <td>MT</td>\n",
       "      <td>57</td>\n",
       "    </tr>\n",
       "    <tr>\n",
       "      <th>3</th>\n",
       "      <td>2023.0</td>\n",
       "      <td>8.0</td>\n",
       "      <td>MANUTENÇÃO DE ESCRITÓRIO DE APOIO À ATIVIDADE ...</td>\n",
       "      <td>7605225.0</td>\n",
       "      <td>Nota Fiscal</td>\n",
       "      <td>0.0</td>\n",
       "      <td>11533082023001</td>\n",
       "      <td>43.2</td>\n",
       "      <td>AGUAS CUIABA</td>\n",
       "      <td>14995581000153</td>\n",
       "      <td>43.2</td>\n",
       "      <td>0.0</td>\n",
       "      <td>1966665.0</td>\n",
       "      <td>0.0</td>\n",
       "      <td>220593</td>\n",
       "      <td>Abilio Brunini</td>\n",
       "      <td>PL</td>\n",
       "      <td>MT</td>\n",
       "      <td>57</td>\n",
       "    </tr>\n",
       "    <tr>\n",
       "      <th>4</th>\n",
       "      <td>2023.0</td>\n",
       "      <td>4.0</td>\n",
       "      <td>MANUTENÇÃO DE ESCRITÓRIO DE APOIO À ATIVIDADE ...</td>\n",
       "      <td>7538426.0</td>\n",
       "      <td>Nota Fiscal</td>\n",
       "      <td>0.0</td>\n",
       "      <td>s/n</td>\n",
       "      <td>43.2</td>\n",
       "      <td>AGUAS CUIABA</td>\n",
       "      <td>14995581000153</td>\n",
       "      <td>43.2</td>\n",
       "      <td>0.0</td>\n",
       "      <td>1931086.0</td>\n",
       "      <td>0.0</td>\n",
       "      <td>220593</td>\n",
       "      <td>Abilio Brunini</td>\n",
       "      <td>PL</td>\n",
       "      <td>MT</td>\n",
       "      <td>57</td>\n",
       "    </tr>\n",
       "  </tbody>\n",
       "</table>\n",
       "</div>"
      ],
      "text/plain": [
       "      ano  mes                                        tipoDespesa  \\\n",
       "0  2023.0  5.0  MANUTENÇÃO DE ESCRITÓRIO DE APOIO À ATIVIDADE ...   \n",
       "1  2023.0  6.0  MANUTENÇÃO DE ESCRITÓRIO DE APOIO À ATIVIDADE ...   \n",
       "2  2023.0  7.0  MANUTENÇÃO DE ESCRITÓRIO DE APOIO À ATIVIDADE ...   \n",
       "3  2023.0  8.0  MANUTENÇÃO DE ESCRITÓRIO DE APOIO À ATIVIDADE ...   \n",
       "4  2023.0  4.0  MANUTENÇÃO DE ESCRITÓRIO DE APOIO À ATIVIDADE ...   \n",
       "\n",
       "   codDocumento   tipoDocumento  codTipoDocumento    numDocumento  \\\n",
       "0     7552621.0     Nota Fiscal               0.0  11533052023001   \n",
       "1     7587236.0  Recibos/Outros               1.0  11533062023001   \n",
       "2     7587239.0     Nota Fiscal               0.0  11533072023001   \n",
       "3     7605225.0     Nota Fiscal               0.0  11533082023001   \n",
       "4     7538426.0     Nota Fiscal               0.0             s/n   \n",
       "\n",
       "   valorDocumento nomeFornecedor cnpjCpfFornecedor  valorLiquido  valorGlosa  \\\n",
       "0            43.2   AGUAS CUIABA    14995581000153          43.2         0.0   \n",
       "1            43.2   AGUAS CUIABA    14995581000153          43.2         0.0   \n",
       "2            43.2   AGUAS CUIABA    14995581000153          43.2         0.0   \n",
       "3            43.2   AGUAS CUIABA    14995581000153          43.2         0.0   \n",
       "4            43.2   AGUAS CUIABA    14995581000153          43.2         0.0   \n",
       "\n",
       "     codLote  parcela      id            nome siglaPartido siglaUf  \\\n",
       "0  1938600.0      0.0  220593  Abilio Brunini           PL      MT   \n",
       "1  1957493.0      0.0  220593  Abilio Brunini           PL      MT   \n",
       "2  1957494.0      0.0  220593  Abilio Brunini           PL      MT   \n",
       "3  1966665.0      0.0  220593  Abilio Brunini           PL      MT   \n",
       "4  1931086.0      0.0  220593  Abilio Brunini           PL      MT   \n",
       "\n",
       "   idLegislatura  \n",
       "0             57  \n",
       "1             57  \n",
       "2             57  \n",
       "3             57  \n",
       "4             57  "
      ]
     },
     "execution_count": 34,
     "metadata": {},
     "output_type": "execute_result"
    }
   ],
   "source": [
    "# realizando o merge de ambas as tabelas pelo atributo ID.\n",
    "total = total.merge(deputados, on=['id'])\n",
    "total.head()"
   ]
  },
  {
   "cell_type": "markdown",
   "metadata": {},
   "source": [
    "* **Bom com isso terminamos nossa etapa de transformação, claro que poderíamos tratar mais dados e fazer uma verificação mais detalhada, porém nesse momento vamos parar por aqui, agora precisamos partir para próxima etapa que é a de carregamento.**\n",
    "* **Para o carregamento vamos usar um banco de dados relacional sqLite, pois são poucos dados o que se encaixa perfeitamente nesse caso.**"
   ]
  },
  {
   "cell_type": "markdown",
   "metadata": {},
   "source": [
    "[voltar](#ancora)"
   ]
  },
  {
   "cell_type": "markdown",
   "metadata": {},
   "source": [
    "<a id=\"ancora3\"></a>\n",
    "\n",
    "## Carregamento(Load)"
   ]
  },
  {
   "cell_type": "code",
   "execution_count": 35,
   "metadata": {},
   "outputs": [],
   "source": [
    "# importando a lib\n",
    "from sqlalchemy import create_engine"
   ]
  },
  {
   "cell_type": "code",
   "execution_count": 36,
   "metadata": {},
   "outputs": [],
   "source": [
    "# Criando a conexão e o banco de dados gastos_deputados.db\n",
    "engine = create_engine('sqlite:///database/gastos_deputados.db')"
   ]
  },
  {
   "cell_type": "code",
   "execution_count": 37,
   "metadata": {},
   "outputs": [
    {
     "data": {
      "text/plain": [
       "49023"
      ]
     },
     "execution_count": 37,
     "metadata": {},
     "output_type": "execute_result"
    }
   ],
   "source": [
    "# Criando a tabela despesas_deputados com os dados ao banco de dados.\n",
    "total.to_sql('despesas_deputados', engine, index=False)"
   ]
  },
  {
   "cell_type": "markdown",
   "metadata": {},
   "source": [
    "* **Pronto com isso concluímos todas as etapas do ETL**.\n",
    "* **Agora podemos carregar os dados salvos e partir para uma analise exploratória.**"
   ]
  },
  {
   "cell_type": "markdown",
   "metadata": {},
   "source": [
    "[voltar](#ancora)"
   ]
  },
  {
   "cell_type": "markdown",
   "metadata": {},
   "source": [
    "<a id=\"ancora4\"></a>\n",
    "\n",
    "## Análise EDA"
   ]
  },
  {
   "cell_type": "code",
   "execution_count": 38,
   "metadata": {},
   "outputs": [],
   "source": [
    "total = pd.read_sql(\"select * from despesas_deputados;\", engine)"
   ]
  },
  {
   "cell_type": "code",
   "execution_count": 39,
   "metadata": {},
   "outputs": [
    {
     "data": {
      "text/html": [
       "<div>\n",
       "<style scoped>\n",
       "    .dataframe tbody tr th:only-of-type {\n",
       "        vertical-align: middle;\n",
       "    }\n",
       "\n",
       "    .dataframe tbody tr th {\n",
       "        vertical-align: top;\n",
       "    }\n",
       "\n",
       "    .dataframe thead th {\n",
       "        text-align: right;\n",
       "    }\n",
       "</style>\n",
       "<table border=\"1\" class=\"dataframe\">\n",
       "  <thead>\n",
       "    <tr style=\"text-align: right;\">\n",
       "      <th></th>\n",
       "      <th>ano</th>\n",
       "      <th>mes</th>\n",
       "      <th>tipoDespesa</th>\n",
       "      <th>codDocumento</th>\n",
       "      <th>tipoDocumento</th>\n",
       "      <th>codTipoDocumento</th>\n",
       "      <th>numDocumento</th>\n",
       "      <th>valorDocumento</th>\n",
       "      <th>nomeFornecedor</th>\n",
       "      <th>cnpjCpfFornecedor</th>\n",
       "      <th>valorLiquido</th>\n",
       "      <th>valorGlosa</th>\n",
       "      <th>codLote</th>\n",
       "      <th>parcela</th>\n",
       "      <th>id</th>\n",
       "      <th>nome</th>\n",
       "      <th>siglaPartido</th>\n",
       "      <th>siglaUf</th>\n",
       "      <th>idLegislatura</th>\n",
       "    </tr>\n",
       "  </thead>\n",
       "  <tbody>\n",
       "    <tr>\n",
       "      <th>0</th>\n",
       "      <td>2023.0</td>\n",
       "      <td>5.0</td>\n",
       "      <td>MANUTENÇÃO DE ESCRITÓRIO DE APOIO À ATIVIDADE ...</td>\n",
       "      <td>7552621.0</td>\n",
       "      <td>Nota Fiscal</td>\n",
       "      <td>0.0</td>\n",
       "      <td>11533052023001</td>\n",
       "      <td>43.2</td>\n",
       "      <td>AGUAS CUIABA</td>\n",
       "      <td>14995581000153</td>\n",
       "      <td>43.2</td>\n",
       "      <td>0.0</td>\n",
       "      <td>1938600.0</td>\n",
       "      <td>0.0</td>\n",
       "      <td>220593</td>\n",
       "      <td>Abilio Brunini</td>\n",
       "      <td>PL</td>\n",
       "      <td>MT</td>\n",
       "      <td>57</td>\n",
       "    </tr>\n",
       "    <tr>\n",
       "      <th>1</th>\n",
       "      <td>2023.0</td>\n",
       "      <td>6.0</td>\n",
       "      <td>MANUTENÇÃO DE ESCRITÓRIO DE APOIO À ATIVIDADE ...</td>\n",
       "      <td>7587236.0</td>\n",
       "      <td>Recibos/Outros</td>\n",
       "      <td>1.0</td>\n",
       "      <td>11533062023001</td>\n",
       "      <td>43.2</td>\n",
       "      <td>AGUAS CUIABA</td>\n",
       "      <td>14995581000153</td>\n",
       "      <td>43.2</td>\n",
       "      <td>0.0</td>\n",
       "      <td>1957493.0</td>\n",
       "      <td>0.0</td>\n",
       "      <td>220593</td>\n",
       "      <td>Abilio Brunini</td>\n",
       "      <td>PL</td>\n",
       "      <td>MT</td>\n",
       "      <td>57</td>\n",
       "    </tr>\n",
       "    <tr>\n",
       "      <th>2</th>\n",
       "      <td>2023.0</td>\n",
       "      <td>7.0</td>\n",
       "      <td>MANUTENÇÃO DE ESCRITÓRIO DE APOIO À ATIVIDADE ...</td>\n",
       "      <td>7587239.0</td>\n",
       "      <td>Nota Fiscal</td>\n",
       "      <td>0.0</td>\n",
       "      <td>11533072023001</td>\n",
       "      <td>43.2</td>\n",
       "      <td>AGUAS CUIABA</td>\n",
       "      <td>14995581000153</td>\n",
       "      <td>43.2</td>\n",
       "      <td>0.0</td>\n",
       "      <td>1957494.0</td>\n",
       "      <td>0.0</td>\n",
       "      <td>220593</td>\n",
       "      <td>Abilio Brunini</td>\n",
       "      <td>PL</td>\n",
       "      <td>MT</td>\n",
       "      <td>57</td>\n",
       "    </tr>\n",
       "    <tr>\n",
       "      <th>3</th>\n",
       "      <td>2023.0</td>\n",
       "      <td>8.0</td>\n",
       "      <td>MANUTENÇÃO DE ESCRITÓRIO DE APOIO À ATIVIDADE ...</td>\n",
       "      <td>7605225.0</td>\n",
       "      <td>Nota Fiscal</td>\n",
       "      <td>0.0</td>\n",
       "      <td>11533082023001</td>\n",
       "      <td>43.2</td>\n",
       "      <td>AGUAS CUIABA</td>\n",
       "      <td>14995581000153</td>\n",
       "      <td>43.2</td>\n",
       "      <td>0.0</td>\n",
       "      <td>1966665.0</td>\n",
       "      <td>0.0</td>\n",
       "      <td>220593</td>\n",
       "      <td>Abilio Brunini</td>\n",
       "      <td>PL</td>\n",
       "      <td>MT</td>\n",
       "      <td>57</td>\n",
       "    </tr>\n",
       "    <tr>\n",
       "      <th>4</th>\n",
       "      <td>2023.0</td>\n",
       "      <td>4.0</td>\n",
       "      <td>MANUTENÇÃO DE ESCRITÓRIO DE APOIO À ATIVIDADE ...</td>\n",
       "      <td>7538426.0</td>\n",
       "      <td>Nota Fiscal</td>\n",
       "      <td>0.0</td>\n",
       "      <td>s/n</td>\n",
       "      <td>43.2</td>\n",
       "      <td>AGUAS CUIABA</td>\n",
       "      <td>14995581000153</td>\n",
       "      <td>43.2</td>\n",
       "      <td>0.0</td>\n",
       "      <td>1931086.0</td>\n",
       "      <td>0.0</td>\n",
       "      <td>220593</td>\n",
       "      <td>Abilio Brunini</td>\n",
       "      <td>PL</td>\n",
       "      <td>MT</td>\n",
       "      <td>57</td>\n",
       "    </tr>\n",
       "  </tbody>\n",
       "</table>\n",
       "</div>"
      ],
      "text/plain": [
       "      ano  mes                                        tipoDespesa  \\\n",
       "0  2023.0  5.0  MANUTENÇÃO DE ESCRITÓRIO DE APOIO À ATIVIDADE ...   \n",
       "1  2023.0  6.0  MANUTENÇÃO DE ESCRITÓRIO DE APOIO À ATIVIDADE ...   \n",
       "2  2023.0  7.0  MANUTENÇÃO DE ESCRITÓRIO DE APOIO À ATIVIDADE ...   \n",
       "3  2023.0  8.0  MANUTENÇÃO DE ESCRITÓRIO DE APOIO À ATIVIDADE ...   \n",
       "4  2023.0  4.0  MANUTENÇÃO DE ESCRITÓRIO DE APOIO À ATIVIDADE ...   \n",
       "\n",
       "   codDocumento   tipoDocumento  codTipoDocumento    numDocumento  \\\n",
       "0     7552621.0     Nota Fiscal               0.0  11533052023001   \n",
       "1     7587236.0  Recibos/Outros               1.0  11533062023001   \n",
       "2     7587239.0     Nota Fiscal               0.0  11533072023001   \n",
       "3     7605225.0     Nota Fiscal               0.0  11533082023001   \n",
       "4     7538426.0     Nota Fiscal               0.0             s/n   \n",
       "\n",
       "   valorDocumento nomeFornecedor cnpjCpfFornecedor  valorLiquido  valorGlosa  \\\n",
       "0            43.2   AGUAS CUIABA    14995581000153          43.2         0.0   \n",
       "1            43.2   AGUAS CUIABA    14995581000153          43.2         0.0   \n",
       "2            43.2   AGUAS CUIABA    14995581000153          43.2         0.0   \n",
       "3            43.2   AGUAS CUIABA    14995581000153          43.2         0.0   \n",
       "4            43.2   AGUAS CUIABA    14995581000153          43.2         0.0   \n",
       "\n",
       "     codLote  parcela      id            nome siglaPartido siglaUf  \\\n",
       "0  1938600.0      0.0  220593  Abilio Brunini           PL      MT   \n",
       "1  1957493.0      0.0  220593  Abilio Brunini           PL      MT   \n",
       "2  1957494.0      0.0  220593  Abilio Brunini           PL      MT   \n",
       "3  1966665.0      0.0  220593  Abilio Brunini           PL      MT   \n",
       "4  1931086.0      0.0  220593  Abilio Brunini           PL      MT   \n",
       "\n",
       "   idLegislatura  \n",
       "0             57  \n",
       "1             57  \n",
       "2             57  \n",
       "3             57  \n",
       "4             57  "
      ]
     },
     "execution_count": 39,
     "metadata": {},
     "output_type": "execute_result"
    }
   ],
   "source": [
    "total.head()"
   ]
  },
  {
   "cell_type": "markdown",
   "metadata": {},
   "source": [
    "### Qual a distribuição por partidos?"
   ]
  },
  {
   "cell_type": "code",
   "execution_count": 40,
   "metadata": {},
   "outputs": [
    {
     "data": {
      "image/png": "[encoded data removed]",
      "text/plain": [
       "<Figure size 432x288 with 1 Axes>"
      ]
     },
     "metadata": {
      "needs_background": "light"
     },
     "output_type": "display_data"
    }
   ],
   "source": [
    "total.value_counts('siglaPartido', ascending=True).plot(kind='barh');"
   ]
  },
  {
   "cell_type": "markdown",
   "metadata": {},
   "source": [
    "### Os 10 deputados que mais tiveram despesas durante o período todo?"
   ]
  },
  {
   "cell_type": "code",
   "execution_count": 41,
   "metadata": {},
   "outputs": [
    {
     "data": {
      "text/html": [
       "<div>\n",
       "<style scoped>\n",
       "    .dataframe tbody tr th:only-of-type {\n",
       "        vertical-align: middle;\n",
       "    }\n",
       "\n",
       "    .dataframe tbody tr th {\n",
       "        vertical-align: top;\n",
       "    }\n",
       "\n",
       "    .dataframe thead th {\n",
       "        text-align: right;\n",
       "    }\n",
       "</style>\n",
       "<table border=\"1\" class=\"dataframe\">\n",
       "  <thead>\n",
       "    <tr style=\"text-align: right;\">\n",
       "      <th></th>\n",
       "      <th>nome</th>\n",
       "      <th>valorDocumento</th>\n",
       "      <th>valorLiquido</th>\n",
       "    </tr>\n",
       "  </thead>\n",
       "  <tbody>\n",
       "    <tr>\n",
       "      <th>334</th>\n",
       "      <td>Marcos Aurélio Sampaio</td>\n",
       "      <td>408771.46</td>\n",
       "      <td>408769.90</td>\n",
       "    </tr>\n",
       "    <tr>\n",
       "      <th>491</th>\n",
       "      <td>Vinicius Gurgel</td>\n",
       "      <td>398189.31</td>\n",
       "      <td>398189.31</td>\n",
       "    </tr>\n",
       "    <tr>\n",
       "      <th>453</th>\n",
       "      <td>Rubens Pereira Júnior</td>\n",
       "      <td>397659.14</td>\n",
       "      <td>397659.14</td>\n",
       "    </tr>\n",
       "    <tr>\n",
       "      <th>141</th>\n",
       "      <td>Dilvanda Faro</td>\n",
       "      <td>395749.85</td>\n",
       "      <td>387140.52</td>\n",
       "    </tr>\n",
       "    <tr>\n",
       "      <th>509</th>\n",
       "      <td>Átila Lins</td>\n",
       "      <td>395358.49</td>\n",
       "      <td>395211.78</td>\n",
       "    </tr>\n",
       "    <tr>\n",
       "      <th>144</th>\n",
       "      <td>Domingos Neto</td>\n",
       "      <td>390552.16</td>\n",
       "      <td>389829.21</td>\n",
       "    </tr>\n",
       "    <tr>\n",
       "      <th>134</th>\n",
       "      <td>Delegado Éder Mauro</td>\n",
       "      <td>387706.58</td>\n",
       "      <td>387706.58</td>\n",
       "    </tr>\n",
       "    <tr>\n",
       "      <th>92</th>\n",
       "      <td>Cleber Verde</td>\n",
       "      <td>385865.57</td>\n",
       "      <td>385865.57</td>\n",
       "    </tr>\n",
       "    <tr>\n",
       "      <th>489</th>\n",
       "      <td>Vicentinho Júnior</td>\n",
       "      <td>378002.37</td>\n",
       "      <td>378002.37</td>\n",
       "    </tr>\n",
       "    <tr>\n",
       "      <th>2</th>\n",
       "      <td>Acácio Favacho</td>\n",
       "      <td>377485.95</td>\n",
       "      <td>377485.07</td>\n",
       "    </tr>\n",
       "  </tbody>\n",
       "</table>\n",
       "</div>"
      ],
      "text/plain": [
       "                       nome  valorDocumento  valorLiquido\n",
       "334  Marcos Aurélio Sampaio       408771.46     408769.90\n",
       "491         Vinicius Gurgel       398189.31     398189.31\n",
       "453   Rubens Pereira Júnior       397659.14     397659.14\n",
       "141           Dilvanda Faro       395749.85     387140.52\n",
       "509              Átila Lins       395358.49     395211.78\n",
       "144           Domingos Neto       390552.16     389829.21\n",
       "134     Delegado Éder Mauro       387706.58     387706.58\n",
       "92             Cleber Verde       385865.57     385865.57\n",
       "489       Vicentinho Júnior       378002.37     378002.37\n",
       "2            Acácio Favacho       377485.95     377485.07"
      ]
     },
     "execution_count": 41,
     "metadata": {},
     "output_type": "execute_result"
    }
   ],
   "source": [
    "gastos_deputados = total.groupby(['nome']).sum()[['valorDocumento', 'valorLiquido']].reset_index()\n",
    "gastos_deputados = gastos_deputados.sort_values('valorDocumento', ascending=False)\n",
    "gastos_deputados.head(10)"
   ]
  },
  {
   "cell_type": "code",
   "execution_count": 42,
   "metadata": {},
   "outputs": [
    {
     "data": {
      "text/plain": [
       "nome              Marcos Aurélio SampaioVinicius GurgelRubens Pe...\n",
       "valorDocumento                                           3915340.88\n",
       "valorLiquido                                             3905859.45\n",
       "dtype: object"
      ]
     },
     "execution_count": 42,
     "metadata": {},
     "output_type": "execute_result"
    }
   ],
   "source": [
    "gastos_deputados.head(10).sum()"
   ]
  },
  {
   "cell_type": "markdown",
   "metadata": {},
   "source": [
    "* **Os valores acumulados de despesas dos 10 deputados mais gastões no perído do Mês 2 ao final do Mês 9 chegaram na casa dos 3.900 milhão de Reais.**"
   ]
  },
  {
   "cell_type": "markdown",
   "metadata": {},
   "source": [
    "### Os 10 Deputados que tiveram menos despesas durante todo o período?"
   ]
  },
  {
   "cell_type": "code",
   "execution_count": 43,
   "metadata": {},
   "outputs": [
    {
     "data": {
      "text/html": [
       "<div>\n",
       "<style scoped>\n",
       "    .dataframe tbody tr th:only-of-type {\n",
       "        vertical-align: middle;\n",
       "    }\n",
       "\n",
       "    .dataframe tbody tr th {\n",
       "        vertical-align: top;\n",
       "    }\n",
       "\n",
       "    .dataframe thead th {\n",
       "        text-align: right;\n",
       "    }\n",
       "</style>\n",
       "<table border=\"1\" class=\"dataframe\">\n",
       "  <thead>\n",
       "    <tr style=\"text-align: right;\">\n",
       "      <th></th>\n",
       "      <th>nome</th>\n",
       "      <th>valorDocumento</th>\n",
       "      <th>valorLiquido</th>\n",
       "    </tr>\n",
       "  </thead>\n",
       "  <tbody>\n",
       "    <tr>\n",
       "      <th>325</th>\n",
       "      <td>Marcelo Calero</td>\n",
       "      <td>22421.68</td>\n",
       "      <td>22321.07</td>\n",
       "    </tr>\n",
       "    <tr>\n",
       "      <th>3</th>\n",
       "      <td>Adail Filho</td>\n",
       "      <td>21856.35</td>\n",
       "      <td>21856.35</td>\n",
       "    </tr>\n",
       "    <tr>\n",
       "      <th>318</th>\n",
       "      <td>Lula da Fonte</td>\n",
       "      <td>20652.92</td>\n",
       "      <td>20408.13</td>\n",
       "    </tr>\n",
       "    <tr>\n",
       "      <th>365</th>\n",
       "      <td>Márcio Correa</td>\n",
       "      <td>20000.00</td>\n",
       "      <td>20000.00</td>\n",
       "    </tr>\n",
       "    <tr>\n",
       "      <th>186</th>\n",
       "      <td>Fernanda Pessoa</td>\n",
       "      <td>19168.05</td>\n",
       "      <td>19143.06</td>\n",
       "    </tr>\n",
       "    <tr>\n",
       "      <th>349</th>\n",
       "      <td>Mauricio do Vôlei</td>\n",
       "      <td>18819.73</td>\n",
       "      <td>18819.73</td>\n",
       "    </tr>\n",
       "    <tr>\n",
       "      <th>274</th>\n",
       "      <td>Juliana Cardoso</td>\n",
       "      <td>18725.47</td>\n",
       "      <td>18725.47</td>\n",
       "    </tr>\n",
       "    <tr>\n",
       "      <th>414</th>\n",
       "      <td>Priscila Costa</td>\n",
       "      <td>15806.95</td>\n",
       "      <td>15806.95</td>\n",
       "    </tr>\n",
       "    <tr>\n",
       "      <th>147</th>\n",
       "      <td>Doutor Luizinho</td>\n",
       "      <td>15260.33</td>\n",
       "      <td>15260.33</td>\n",
       "    </tr>\n",
       "    <tr>\n",
       "      <th>117</th>\n",
       "      <td>Daniela do Waguinho</td>\n",
       "      <td>13275.95</td>\n",
       "      <td>13267.87</td>\n",
       "    </tr>\n",
       "  </tbody>\n",
       "</table>\n",
       "</div>"
      ],
      "text/plain": [
       "                    nome  valorDocumento  valorLiquido\n",
       "325       Marcelo Calero        22421.68      22321.07\n",
       "3            Adail Filho        21856.35      21856.35\n",
       "318        Lula da Fonte        20652.92      20408.13\n",
       "365        Márcio Correa        20000.00      20000.00\n",
       "186      Fernanda Pessoa        19168.05      19143.06\n",
       "349    Mauricio do Vôlei        18819.73      18819.73\n",
       "274      Juliana Cardoso        18725.47      18725.47\n",
       "414       Priscila Costa        15806.95      15806.95\n",
       "147      Doutor Luizinho        15260.33      15260.33\n",
       "117  Daniela do Waguinho        13275.95      13267.87"
      ]
     },
     "execution_count": 43,
     "metadata": {},
     "output_type": "execute_result"
    }
   ],
   "source": [
    "gastos_deputados.tail(10)"
   ]
  },
  {
   "cell_type": "markdown",
   "metadata": {},
   "source": [
    "### Quais os principais fornecedores?"
   ]
  },
  {
   "cell_type": "code",
   "execution_count": 44,
   "metadata": {},
   "outputs": [
    {
     "data": {
      "image/png": "[encoded data removed]",
      "text/plain": [
       "<Figure size 432x288 with 1 Axes>"
      ]
     },
     "metadata": {
      "needs_background": "light"
     },
     "output_type": "display_data"
    }
   ],
   "source": [
    "total.nomeFornecedor.value_counts(ascending=False)[:10].plot(kind=\"barh\");"
   ]
  },
  {
   "cell_type": "markdown",
   "metadata": {},
   "source": [
    "* **Aparentemente as maiores despesas provém de companhias aéreas.**\n",
    "* **A vida não deve estar fácil para esses deputados, pegando transporte público em horário de pico.**"
   ]
  },
  {
   "cell_type": "markdown",
   "metadata": {},
   "source": [
    "### Quais os partidos que mais tiveram despesas?"
   ]
  },
  {
   "cell_type": "code",
   "execution_count": 45,
   "metadata": {},
   "outputs": [
    {
     "data": {
      "text/html": [
       "<div>\n",
       "<style scoped>\n",
       "    .dataframe tbody tr th:only-of-type {\n",
       "        vertical-align: middle;\n",
       "    }\n",
       "\n",
       "    .dataframe tbody tr th {\n",
       "        vertical-align: top;\n",
       "    }\n",
       "\n",
       "    .dataframe thead th {\n",
       "        text-align: right;\n",
       "    }\n",
       "</style>\n",
       "<table border=\"1\" class=\"dataframe\">\n",
       "  <thead>\n",
       "    <tr style=\"text-align: right;\">\n",
       "      <th></th>\n",
       "      <th>siglaPartido</th>\n",
       "      <th>valorDocumento</th>\n",
       "    </tr>\n",
       "  </thead>\n",
       "  <tbody>\n",
       "    <tr>\n",
       "      <th>7</th>\n",
       "      <td>PL</td>\n",
       "      <td>13184802.76</td>\n",
       "    </tr>\n",
       "    <tr>\n",
       "      <th>14</th>\n",
       "      <td>PT</td>\n",
       "      <td>8293306.06</td>\n",
       "    </tr>\n",
       "    <tr>\n",
       "      <th>19</th>\n",
       "      <td>UNIÃO</td>\n",
       "      <td>7828435.36</td>\n",
       "    </tr>\n",
       "    <tr>\n",
       "      <th>9</th>\n",
       "      <td>PP</td>\n",
       "      <td>6373352.30</td>\n",
       "    </tr>\n",
       "    <tr>\n",
       "      <th>2</th>\n",
       "      <td>MDB</td>\n",
       "      <td>5647371.69</td>\n",
       "    </tr>\n",
       "  </tbody>\n",
       "</table>\n",
       "</div>"
      ],
      "text/plain": [
       "   siglaPartido  valorDocumento\n",
       "7            PL     13184802.76\n",
       "14           PT      8293306.06\n",
       "19        UNIÃO      7828435.36\n",
       "9            PP      6373352.30\n",
       "2           MDB      5647371.69"
      ]
     },
     "execution_count": 45,
     "metadata": {},
     "output_type": "execute_result"
    }
   ],
   "source": [
    "gastos_partidos = total.groupby(['siglaPartido']).sum()[['valorDocumento']].reset_index()\n",
    "gastos_partidos = gastos_partidos.sort_values('valorDocumento', ascending=False)\n",
    "gastos_partidos.head()"
   ]
  },
  {
   "cell_type": "markdown",
   "metadata": {},
   "source": [
    "* **Acima estão o 5 partidos que tiveram mais despesas, porém essa não é a melhor forma de confirmação, pois a disdrituição dos deputados não seguem uma proporção equilibrada. Para esse cenário podemos utilizar a média de gastos por partido.**"
   ]
  },
  {
   "cell_type": "markdown",
   "metadata": {},
   "source": [
    "### Qual a média das despesas por partido?"
   ]
  },
  {
   "cell_type": "code",
   "execution_count": 46,
   "metadata": {},
   "outputs": [
    {
     "data": {
      "text/html": [
       "<div>\n",
       "<style scoped>\n",
       "    .dataframe tbody tr th:only-of-type {\n",
       "        vertical-align: middle;\n",
       "    }\n",
       "\n",
       "    .dataframe tbody tr th {\n",
       "        vertical-align: top;\n",
       "    }\n",
       "\n",
       "    .dataframe thead th {\n",
       "        text-align: right;\n",
       "    }\n",
       "</style>\n",
       "<table border=\"1\" class=\"dataframe\">\n",
       "  <thead>\n",
       "    <tr style=\"text-align: right;\">\n",
       "      <th></th>\n",
       "      <th>siglaPartido</th>\n",
       "      <th>valorDocumento</th>\n",
       "    </tr>\n",
       "  </thead>\n",
       "  <tbody>\n",
       "    <tr>\n",
       "      <th>8</th>\n",
       "      <td>PODE</td>\n",
       "      <td>1772.380275</td>\n",
       "    </tr>\n",
       "    <tr>\n",
       "      <th>5</th>\n",
       "      <td>PCdoB</td>\n",
       "      <td>1529.912014</td>\n",
       "    </tr>\n",
       "    <tr>\n",
       "      <th>2</th>\n",
       "      <td>MDB</td>\n",
       "      <td>1474.894670</td>\n",
       "    </tr>\n",
       "    <tr>\n",
       "      <th>17</th>\n",
       "      <td>REPUBLICANOS</td>\n",
       "      <td>1451.951481</td>\n",
       "    </tr>\n",
       "    <tr>\n",
       "      <th>7</th>\n",
       "      <td>PL</td>\n",
       "      <td>1400.403904</td>\n",
       "    </tr>\n",
       "  </tbody>\n",
       "</table>\n",
       "</div>"
      ],
      "text/plain": [
       "    siglaPartido  valorDocumento\n",
       "8           PODE     1772.380275\n",
       "5          PCdoB     1529.912014\n",
       "2            MDB     1474.894670\n",
       "17  REPUBLICANOS     1451.951481\n",
       "7             PL     1400.403904"
      ]
     },
     "execution_count": 46,
     "metadata": {},
     "output_type": "execute_result"
    }
   ],
   "source": [
    "media_gastos_partidos = total.groupby(['siglaPartido']).mean()[['valorDocumento']].reset_index()\n",
    "media_gastos_partidos = media_gastos_partidos.sort_values('valorDocumento', ascending=False)\n",
    "media_gastos_partidos.head()"
   ]
  },
  {
   "cell_type": "markdown",
   "metadata": {},
   "source": [
    "* **Acima podemos ter uma visão real que qual partido estão gastando mais, através das médias das despesas.**"
   ]
  },
  {
   "cell_type": "markdown",
   "metadata": {},
   "source": [
    "### Analisar os gastos mensais"
   ]
  },
  {
   "cell_type": "code",
   "execution_count": 47,
   "metadata": {},
   "outputs": [
    {
     "data": {
      "text/html": [
       "<div>\n",
       "<style scoped>\n",
       "    .dataframe tbody tr th:only-of-type {\n",
       "        vertical-align: middle;\n",
       "    }\n",
       "\n",
       "    .dataframe tbody tr th {\n",
       "        vertical-align: top;\n",
       "    }\n",
       "\n",
       "    .dataframe thead th {\n",
       "        text-align: right;\n",
       "    }\n",
       "</style>\n",
       "<table border=\"1\" class=\"dataframe\">\n",
       "  <thead>\n",
       "    <tr style=\"text-align: right;\">\n",
       "      <th></th>\n",
       "      <th>mes</th>\n",
       "      <th>valorDocumento</th>\n",
       "    </tr>\n",
       "  </thead>\n",
       "  <tbody>\n",
       "    <tr>\n",
       "      <th>0</th>\n",
       "      <td>1.0</td>\n",
       "      <td>8837847.84</td>\n",
       "    </tr>\n",
       "    <tr>\n",
       "      <th>1</th>\n",
       "      <td>2.0</td>\n",
       "      <td>6501967.04</td>\n",
       "    </tr>\n",
       "    <tr>\n",
       "      <th>2</th>\n",
       "      <td>3.0</td>\n",
       "      <td>8077845.34</td>\n",
       "    </tr>\n",
       "    <tr>\n",
       "      <th>3</th>\n",
       "      <td>4.0</td>\n",
       "      <td>8194895.77</td>\n",
       "    </tr>\n",
       "    <tr>\n",
       "      <th>4</th>\n",
       "      <td>5.0</td>\n",
       "      <td>8967956.38</td>\n",
       "    </tr>\n",
       "    <tr>\n",
       "      <th>5</th>\n",
       "      <td>6.0</td>\n",
       "      <td>8066411.80</td>\n",
       "    </tr>\n",
       "    <tr>\n",
       "      <th>6</th>\n",
       "      <td>7.0</td>\n",
       "      <td>7901487.05</td>\n",
       "    </tr>\n",
       "    <tr>\n",
       "      <th>7</th>\n",
       "      <td>8.0</td>\n",
       "      <td>7611575.48</td>\n",
       "    </tr>\n",
       "    <tr>\n",
       "      <th>8</th>\n",
       "      <td>9.0</td>\n",
       "      <td>1924168.31</td>\n",
       "    </tr>\n",
       "  </tbody>\n",
       "</table>\n",
       "</div>"
      ],
      "text/plain": [
       "   mes  valorDocumento\n",
       "0  1.0      8837847.84\n",
       "1  2.0      6501967.04\n",
       "2  3.0      8077845.34\n",
       "3  4.0      8194895.77\n",
       "4  5.0      8967956.38\n",
       "5  6.0      8066411.80\n",
       "6  7.0      7901487.05\n",
       "7  8.0      7611575.48\n",
       "8  9.0      1924168.31"
      ]
     },
     "execution_count": 47,
     "metadata": {},
     "output_type": "execute_result"
    }
   ],
   "source": [
    "gastos_partidos_mes = total.groupby(['mes'])['valorDocumento'].sum().reset_index()\n",
    "gastos_partidos_mes = gastos_partidos_mes.sort_values(['mes'], ascending=True)\n",
    "gastos_partidos_mes"
   ]
  },
  {
   "cell_type": "code",
   "execution_count": 48,
   "metadata": {},
   "outputs": [],
   "source": [
    "# importação das libs.\n",
    "import matplotlib.pyplot as plt\n",
    "import seaborn as sns\n",
    "\n",
    "# Função para criar um gráfico de barras\n",
    "def plot_bar_chart(data, x, y, title, color='blue'):\n",
    "    plt.figure(figsize=(10, 6))\n",
    "    sns.barplot(data=data, x=x, y=y,color=color)\n",
    "    plt.ticklabel_format(style='plain', axis='y')\n",
    "    plt.title(title)\n",
    "    plt.xticks(rotation=45)\n",
    "    plt.show()"
   ]
  },
  {
   "cell_type": "code",
   "execution_count": 49,
   "metadata": {},
   "outputs": [
    {
     "data": {
      "image/png": "[encoded data removed]",
      "text/plain": [
       "<Figure size 720x432 with 1 Axes>"
      ]
     },
     "metadata": {
      "needs_background": "light"
     },
     "output_type": "display_data"
    }
   ],
   "source": [
    "plot_bar_chart(gastos_partidos_mes,'mes', 'valorDocumento', 'Despesas totais por mês', color='#836FFF')"
   ]
  },
  {
   "cell_type": "code",
   "execution_count": 50,
   "metadata": {},
   "outputs": [
    {
     "data": {
      "text/plain": [
       "8019998.3374999985"
      ]
     },
     "execution_count": 50,
     "metadata": {},
     "output_type": "execute_result"
    }
   ],
   "source": [
    "gastos_partidos_mes[:-1]['valorDocumento'].mean()"
   ]
  },
  {
   "cell_type": "markdown",
   "metadata": {},
   "source": [
    "* **Aparentemente existe um padrão na casa de 8 milhão por mês.**"
   ]
  },
  {
   "cell_type": "markdown",
   "metadata": {},
   "source": [
    "[voltar](#ancora)"
   ]
  },
  {
   "cell_type": "markdown",
   "metadata": {},
   "source": [
    "<a id=\"ancora5\"></a>\n",
    "\n",
    "## Conclusão"
   ]
  },
  {
   "cell_type": "markdown",
   "metadata": {},
   "source": [
    "**Com isso concluí todas as etapas da ETL. Extraí os dados dos deputados federeais e suas despesas via API dos Dados Abertos, realizei a limpeza, correção de erros e o merge das tabelas na etapa de transformação e por fim salvei a tabelas no banco de dados SQLite finalizando a etapa de Carregamento.**\n",
    "**Com os dados já preparados, fiz extração do banco de dados para uma breve análise exploratória, para responder algumas questões sobre a distribuição dos partidos, as principais despesas e fornecedores, a média das despesas por partido e rank dos 10 deputados com maior e menor despesas.**"
   ]
  },
  {
   "cell_type": "markdown",
   "metadata": {},
   "source": [
    "[voltar](#ancora)"
   ]
  },
  {
   "cell_type": "code",
   "execution_count": null,
   "metadata": {},
   "outputs": [],
   "source": []
  }
 ],
 "metadata": {
  "kernelspec": {
   "display_name": "Python 3 (ipykernel)",
   "language": "python",
   "name": "python3"
  },
  "language_info": {
   "codemirror_mode": {
    "name": "ipython",
    "version": 3
   },
   "file_extension": ".py",
   "mimetype": "text/x-python",
   "name": "python",
   "nbconvert_exporter": "python",
   "pygments_lexer": "ipython3",
   "version": "3.9.12"
  }
 },
 "nbformat": 4,
 "nbformat_minor": 2
}
