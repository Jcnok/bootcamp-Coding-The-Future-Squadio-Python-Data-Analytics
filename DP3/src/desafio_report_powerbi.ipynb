{
 "cells": [
  {
   "cell_type": "markdown",
   "id": "28ac5d2d",
   "metadata": {},
   "source": [
    "# Desafio: Criando um Relatório de Vendas Elegante com Power BI"
   ]
  },
  {
   "cell_type": "markdown",
   "id": "1eece943",
   "metadata": {},
   "source": [
    "![img](../img/photo.jpg)"
   ]
  },
  {
   "cell_type": "markdown",
   "id": "49bb6249",
   "metadata": {},
   "source": [
    "## Documentação do Conjunto de Dados \"financial sample.xlsx\""
   ]
  },
  {
   "cell_type": "markdown",
   "id": "fc42b465",
   "metadata": {},
   "source": [
    "**Visão Geral**\n",
    "\n",
    "O conjunto de dados \"financial sample.xlsx\" é um arquivo que contém informações financeiras relacionadas a vendas de produtos. Ele inclui várias colunas que descrevem aspectos importantes dos negócios, como segmentação de mercado, país, produtos, preços, vendas, custos e lucros."
   ]
  },
  {
   "cell_type": "markdown",
   "id": "205144c0",
   "metadata": {},
   "source": [
    "### Colunas do Conjunto de Dados"
   ]
  },
  {
   "cell_type": "markdown",
   "id": "39b9c6cb",
   "metadata": {},
   "source": [
    "Aqui estão as colunas do conjunto de dados e suas respectivas descrições:\n",
    "\n",
    "1. **Segment (Segmento)**\n",
    "   - Descrição: O segmento de mercado ao qual o produto pertence.\n",
    "   \n",
    "2. **Country (País)**\n",
    "   - Descrição: O país onde a venda foi realizada.\n",
    "\n",
    "3. **Product (Produto)**\n",
    "   - Descrição: O nome do produto vendido.\n",
    "\n",
    "4. **Discount Band (Banda de Desconto)**\n",
    "   - Descrição: Corresponde a classificação do desconto, High(alto), Medium(médio), Low(baixo), None(sem desconto)\n",
    "\n",
    "5. **Units Sold (Unidades Vendidas)**\n",
    "   - Descrição: O número de unidades do produto vendidas.\n",
    "\n",
    "6. **Manufacturing Price (Preço de Fabricação)**\n",
    "   - Descrição: O custo de fabricação de uma unidade do produto.\n",
    "\n",
    "7. **Sale Price (Preço de Venda)**\n",
    "   - Descrição: O preço de venda de uma unidade do produto.\n",
    "\n",
    "8. **Gross Sales (Vendas Brutas)**\n",
    "   - Descrição: A receita bruta gerada pelas vendas (Unidades Vendidas * Preço de Venda).\n",
    "\n",
    "9. **Discounts (Descontos)**\n",
    "   - Descrição: O valor total de descontos aplicados às vendas.\n",
    "\n",
    "10. **Sales (Vendas)**\n",
    "    - Descrição: A receita líquida gerada pelas vendas (Vendas Brutas - Descontos).\n",
    "\n",
    "11. **COGS (Custo dos Produtos Vendidos)**\n",
    "    - Descrição: O custo dos produtos vendidos, é o custo total de fabricação ou compra de um produto que uma empresa vende. Inclui o custo dos materiais, mão de obra e outras despesas diretamente relacionadas à produção do produto.\n",
    "\n",
    "12. **Profit (Lucro)**\n",
    "    - Descrição: O lucro gerado pelas vendas (Vendas - Custo dos Bens Vendidos).\n",
    "\n",
    "13. **Date (Data)**\n",
    "    - Descrição: A data em que a venda foi realizada.\n",
    "    \n",
    "14. **Month Number (Mês em Número)**\n",
    "    - Descrição: Mês em número em que a venda foi realizada.\n",
    "    \n",
    "15. **Month Name (Mês)**\n",
    "    - Descrição: Mês em que a venda foi realizada.\n",
    "\n",
    "16. **Year (Ano)**\n",
    "    - Descrição: Ano em que a venda foi realizada.\n",
    "    "
   ]
  },
  {
   "cell_type": "markdown",
   "id": "1bb46777",
   "metadata": {},
   "source": [
    "### Sua gerente deseja ver um relatório sobre seus últimos números de vendas. Ela solicitou um resumo executivo para responder as seguintes perguntas:"
   ]
  },
  {
   "cell_type": "markdown",
   "id": "59735c0d",
   "metadata": {},
   "source": [
    "1. **Qual é o desempenho de vendas por país?** \n",
    "   \n",
    "2. **Como as vendas variam ao longo do tempo?**\n",
    "    \n",
    "3. **Qual segmento é o mais lucrativo?** \n",
    "    \n",
    "4. **Qual produto gera o maior lucro?** \n",
    "   \n",
    "5. **Como as vendas se comparam com os descontos oferecidos?** \n",
    "    \n",
    "6. **Qual mês e ano tiveram mais lucro?** \n",
    "    \n",
    "7. **Onde a empresa está tendo mais sucesso (por país)?** \n",
    "    \n",
    "8. **Em qual produto e segmento a empresa deve continuar investindo?** \n",
    "    \n",
    "10. **Incluir os seguintes indicadores:**\n",
    "    * total lucro(profit).\n",
    "    * total unidades vendidas(units sold)\n",
    "    * total discontos(discounts)\n",
    "    * total vendas(sales)\n",
    "    * total custo dos produtos(cogs)\n",
    "    "
   ]
  },
  {
   "cell_type": "markdown",
   "id": "848be865",
   "metadata": {},
   "source": [
    "### O relatório foi desenvolvido no powerbi desktop e depois publicado é possível visualizar-lo pelo link abaixo:\n",
    "[RELATÓRIO POWERBI](https://app.powerbi.com/view?r=eyJrIjoiODcyMzBmMGQtZGRiZi00ZDE3LTk4NjQtMWU2Njc0NzdlNGEwIiwidCI6Ijk4ZjkwMzVmLTZkOWMtNDBmMy1hNDI0LWI0NDY0M2NjMmYyZiJ9)_"
   ]
  },
  {
   "cell_type": "markdown",
   "id": "1153e579",
   "metadata": {},
   "source": [
    "### Print do relatório de Sales(Vendas):"
   ]
  },
  {
   "cell_type": "markdown",
   "id": "6401daf0",
   "metadata": {},
   "source": [
    "![img](../img/sales_report.jpeg)"
   ]
  },
  {
   "cell_type": "markdown",
   "id": "131dfece",
   "metadata": {},
   "source": [
    "### Print do relatório de Profit(Lucro):"
   ]
  },
  {
   "cell_type": "markdown",
   "id": "233ec06c",
   "metadata": {},
   "source": [
    "![img](../img/profit_report.jpeg)"
   ]
  },
  {
   "cell_type": "markdown",
   "id": "8cdc19f4",
   "metadata": {},
   "source": [
    "### Print do relatório de Discount(Descontos):"
   ]
  },
  {
   "cell_type": "markdown",
   "id": "92d8843d",
   "metadata": {},
   "source": [
    "![img](../img/discount_report.jpeg)"
   ]
  },
  {
   "cell_type": "markdown",
   "id": "349c6b69",
   "metadata": {},
   "source": [
    "### Respostas das perguntas após a conclusão dos relatórios:"
   ]
  },
  {
   "cell_type": "markdown",
   "id": "fcb85f53",
   "metadata": {},
   "source": [
    "1. **Qual é o desempenho de vendas por país?** \n",
    "    - Todos os países apresentam desempenho sólido, com receitas acima de 20 milhões, mas é importante destacar que os Estados Unidos lideram, com impressionantes 25 milhões em receitas.\n",
    "\n",
    "2. **Como as vendas variam ao longo do tempo?**\n",
    "    - Apesar de termos dados limitados, é evidente que os meses de junho, outubro e dezembro registram os maiores volumes de vendas, apontando para possíveis sazonalidades.\n",
    "\n",
    "3. **Qual segmento é o mais lucrativo?** \n",
    "    - O segmento \"Government\" demonstra ser o mais lucrativo, contribuindo com um total de 11.388 milhões em lucro.\n",
    "\n",
    "4. **Qual produto gera o maior lucro?** \n",
    "    - O produto \"Paseo\" destaca-se como o mais rentável, gerando um lucro acumulado de 4.797 milhões.\n",
    "\n",
    "5. **Como as vendas se comparam com os descontos oferecidos?** \n",
    "    - Apesar da limitação nos dados históricos, observamos uma correlação entre o valor das vendas e os descontos oferecidos. Em geral, vendas mais altas tendem a estar associadas a descontos mais substanciais.\n",
    "\n",
    "6. **Qual mês e ano tiveram mais lucro?** \n",
    "    - Dezembro de 2014 registrou o pico de lucratividade, gerando 2.025 milhões, representando cerca de 12% do lucro total acumulado.\n",
    "\n",
    "7. **Onde a empresa está tendo mais sucesso (por país)?** \n",
    "    - Embora a Alemanha tenha liderado em lucratividade em 2013, a França alcançou o primeiro lugar em 2014, indicando variações nas regiões de sucesso.\n",
    "\n",
    "8. **Em qual produto e segmento a empresa deve continuar investindo?** \n",
    "    - Em termos de produtos e segmentos de investimento, \"Paseo\" e o segmento \"Government\" demonstram demanda sólida. A estratégia de diversificação, especialmente entre os cinco principais, é recomendada para um crescimento contínuo."
   ]
  },
  {
   "cell_type": "markdown",
   "id": "4f8bb5f9",
   "metadata": {},
   "source": [
    "### Conclusão:"
   ]
  },
  {
   "cell_type": "markdown",
   "id": "157dcf21",
   "metadata": {},
   "source": [
    "**O relatório revela insights valiosos sobre o desempenho financeiro da empresa. Os Estados Unidos lideram as vendas, com destaque para dezembro de 2014 como o mês mais lucrativo. Além disso, o segmento \"Government\" e o produto \"Paseo\" mostram-se como líderes em lucratividade. Essas informações são cruciais para orientar as decisões estratégicas da empresa e identificar oportunidades de investimento. Acompanhar a sazonalidade e a relação entre vendas e descontos é essencial para um crescimento sustentável.**"
   ]
  },
  {
   "cell_type": "markdown",
   "id": "c08fcfd0",
   "metadata": {},
   "source": [
    "**No mundo da análise  e visualização de dados, o Power BI se destaca como uma ferramenta essencial para criar relatórios interativos e painéis envolventes. No entanto, o Jupyter Notebook também é amplamente utilizado por cientistas de dados e analistas para explorar e analisar dados.**  \n",
    "**Vamos explorar como utilizar o Power BI dentro do Jupyter Notebook**."
   ]
  },
  {
   "cell_type": "markdown",
   "id": "b0e3eb2b",
   "metadata": {},
   "source": [
    "**Passo 1: Instalação da Biblioteca**\n",
    "\n",
    "Antes de mergulhar de cabeça na integração, é necessário instalar a biblioteca Power BI para Python. Você pode fazer isso facilmente executando o seguinte comando no seu Jupyter Notebook:\n"
   ]
  },
  {
   "cell_type": "code",
   "execution_count": null,
   "id": "e607480f",
   "metadata": {},
   "outputs": [],
   "source": [
    "!pip install powerbiclient"
   ]
  },
  {
   "cell_type": "markdown",
   "id": "3ac749e1",
   "metadata": {},
   "source": [
    "**Passo 2: Carregando as Bibliotecas Necessárias**\n",
    "\n",
    "Depois de instalar a biblioteca Power BI, importe as bibliotecas necessárias no seu notebook:"
   ]
  },
  {
   "cell_type": "code",
   "execution_count": 1,
   "id": "2076317c",
   "metadata": {},
   "outputs": [],
   "source": [
    "from powerbiclient import QuickVisualize, get_dataset_config, Report\n",
    "from powerbiclient.authentication import DeviceCodeLoginAuthentication"
   ]
  },
  {
   "cell_type": "markdown",
   "id": "3a371e11",
   "metadata": {},
   "source": [
    "**Passo 3: Autenticação com a Conta do Power BI**\n",
    "\n",
    "Para interagir com o Power BI, você precisa autenticar sua conta. Utilizaremos a autenticação com código de dispositivo, o que torna o processo seguro e conveniente:"
   ]
  },
  {
   "cell_type": "code",
   "execution_count": 2,
   "id": "c85b3417",
   "metadata": {},
   "outputs": [
    {
     "name": "stdout",
     "output_type": "stream",
     "text": [
      "Performing device flow authentication. Please follow the instructions below.\n",
      "To sign in, use a web browser to open the page https://microsoft.com/devicelogin and enter the code BK3UWVF8D to authenticate.\n",
      "\n",
      "Device flow authentication successfully completed.\n",
      "You are now logged in .\n",
      "\n",
      "The result should be passed only to trusted code in your notebook.\n"
     ]
    }
   ],
   "source": [
    "device_auth = DeviceCodeLoginAuthentication()"
   ]
  },
  {
   "cell_type": "markdown",
   "id": "18f7f922",
   "metadata": {},
   "source": [
    "Siga as instruções para copiar o código gerado e cole-o após acessar o link fornecido. Isso autentica sua conta do Power BI."
   ]
  },
  {
   "cell_type": "markdown",
   "id": "6af92c11",
   "metadata": {},
   "source": [
    "**Nesse exemplo irei carregar o relatório recém criado e publicado.**"
   ]
  },
  {
   "cell_type": "markdown",
   "id": "46aa7d15",
   "metadata": {},
   "source": [
    "Para isso será necessário acessar o serviço do PowerBi Online já com o relatório devidamente publicado e copiar a ID do report e a ID do workspace onde salvou o report. Segue um exemplo abaixo:"
   ]
  },
  {
   "cell_type": "code",
   "execution_count": 5,
   "id": "5d2cabdf",
   "metadata": {},
   "outputs": [],
   "source": [
    "# report \n",
    "group_id=\"24041EF3-E463-4027-A5E6-85DFF3296BF9\" # vá no pbi online em configurações/portal de administração/workspaces/detalhes \n",
    "report_id=\"c252dcb3-8f09-4285-9f09-096a6d814147\" # abra o relatório clique em arquivo/inserir relatório/site ou portal/ copie o link e localize o reportID.\n",
    "report = Report(group_id=group_id, report_id=report_id, auth=device_auth)\n",
    "# Alterar a dimensão do report\n",
    "report.set_size(600, 900)"
   ]
  },
  {
   "cell_type": "markdown",
   "id": "4ade00f6",
   "metadata": {},
   "source": [
    "**Passo 4: Exibindo o Relatório**"
   ]
  },
  {
   "cell_type": "code",
   "execution_count": 6,
   "id": "39b30909",
   "metadata": {},
   "outputs": [
    {
     "data": {
      "application/vnd.jupyter.widget-view+json": {
       "model_id": "55710369fb414a228a5cdbe297d0f064",
       "version_major": 2,
       "version_minor": 0
      },
      "text/plain": [
       "Report(container_height=600.0, container_width=900.0)"
      ]
     },
     "metadata": {},
     "output_type": "display_data"
    }
   ],
   "source": [
    "#Exibindo o relatório\n",
    "report\n"
   ]
  },
  {
   "cell_type": "markdown",
   "id": "6908a8e0",
   "metadata": {
    "scrolled": false
   },
   "source": [
    "### Com relatório interativo podemos realizar as análises diretamente aqui pelo jupyter e ainda utilizá-lo em uma apresentação ou até mesmo como uma documentação. "
   ]
  },
  {
   "cell_type": "code",
   "execution_count": null,
   "id": "51f0b5bd",
   "metadata": {},
   "outputs": [],
   "source": []
  }
 ],
 "metadata": {
  "kernelspec": {
   "display_name": "Python 3 (ipykernel)",
   "language": "python",
   "name": "python3"
  },
  "language_info": {
   "codemirror_mode": {
    "name": "ipython",
    "version": 3
   },
   "file_extension": ".py",
   "mimetype": "text/x-python",
   "name": "python",
   "nbconvert_exporter": "python",
   "pygments_lexer": "ipython3",
   "version": "3.9.12"
  }
 },
 "nbformat": 4,
 "nbformat_minor": 5
}
