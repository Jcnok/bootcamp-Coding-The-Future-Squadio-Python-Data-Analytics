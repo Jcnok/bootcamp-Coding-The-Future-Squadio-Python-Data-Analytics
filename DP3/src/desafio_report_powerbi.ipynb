{
 "cells": [
  {
   "cell_type": "markdown",
   "id": "28ac5d2d",
   "metadata": {},
   "source": [
    "# Desafio:  Projeto de Integração de Dados com Power BI"
   ]
  },
  {
   "cell_type": "markdown",
   "id": "1eece943",
   "metadata": {},
   "source": [
    "![img](../img/photo.jpg)"
   ]
  },
  {
   "cell_type": "markdown",
   "id": "027d966f-7043-4cbb-9e7e-a5ef4772fc20",
   "metadata": {},
   "source": [
    "## Visão Geral\n",
    "\n",
    "Bem-vindo ao projeto de integração de dados com Power BI! Neste guia, você encontrará uma abordagem simplificada e eficiente para conectar e visualizar dados financeiros utilizando Power BI e a plataforma data.world. \n",
    "\n",
    "A escolha por data.world se deu pela sua facilidade de uso e replicação, eliminando a necessidade de criar uma conta na Azure para acessar o banco de dados MySQL. Este projeto demonstrará como carregar dados, realizar consultas SQL e integrar com Power BI de maneira otimizada, visando uma melhor compreensão e praticidade.\n",
    "\n",
    "## Motivação\n",
    "\n",
    "A decisão de utilizar [data.world](https://data.world/) foi impulsionada pela necessidade de uma solução prática e acessível para a replicação do projeto, sem comprometer a qualidade e a funcionalidade. Além disso, data.world oferece uma excelente plataforma para realizar consultas SQL diretamente nos dados carregados, permitindo uma integração suave com Power BI.\n",
    "\n",
    "## Requisitos do Projeto\n",
    "\n",
    "1. **Conta no [data.world](https://data.world/)**: Para seguir este tutorial, você precisará criar uma conta gratuita no data.world.\n",
    "\n",
    "## Passo a Passo\n",
    "\n",
    "### 1. Carregando Dados do data.world\n",
    "\n",
    "1. Crie uma conta no [data.world](https://data.world/).\n",
    "2. Após criar a conta, acesse o link do [banco de dados](https://data.world/jcnok/financial-sample6-12-2024) confome a imagem:\n",
    "\n",
    "![passo2](../img/passo_02.png)\n",
    "4. Nomeie o dataset de forma adequada, por exemplo, \"Amostra Financeira\".\n",
    "\n",
    "### 2. Executando Consultas SQL no data.world\n",
    "\n",
    "1. Navegue até o  dataset e clique em \"New Query\".\n",
    "2. Utilize a interface SQL do data.world para escrever consultas. Por exemplo, para visualizar todas as entradas do arquivo:\n",
    "   ```sql\n",
    "   SELECT * FROM FinancialSample\n",
    "   ```\n",
    "3. Salve a consulta para utilizá-la posteriormente no Power BI.\n",
    "\n",
    "![passo3](../img/passo_03.png)\n",
    "\n",
    "![pass4](../img/passo_04.png)\n",
    "\n",
    "### 3. Integrando com Power BI\n",
    "\n",
    "1. Abra o Power BI Desktop.\n",
    "2. Na tela inicial, selecione \"Obter Dados\" e escolha a opção \"data.world\".\n",
    "![img](../img/passo_01.png)\n",
    "5. Carregue os dados no Power BI.\n",
    "![passo5](../img/passo_05.png)\n",
    "![passo6](../img/passo_06.png)\n",
    "### 4. Otimização e Visualização\n",
    "\n",
    "Para otimizar a integração e visualização dos dados:\n",
    "\n",
    "1. Ao invés de carregar todo o dataset, utilize consultas SQL para extrair apenas os atributos necessários.\n",
    "2. Realize merges de tabelas diretamente nas consultas SQL no data.world para reduzir o volume de dados carregados no Power BI.\n",
    "3. Utilize filtros e transformações no Power BI para criar visualizações significativas e interativas.\n",
    "\n",
    "## Conclusão\n",
    "\n",
    "Este projeto demonstra como é possível integrar e visualizar dados de maneira eficiente e prática utilizando Power BI e data.world. Ao optar por data.world, eliminamos a necessidade de configurar um banco de dados MySQL na Azure, simplificando o processo e facilitando a replicação.\n",
    "\n",
    "A integração SQL com Power BI não apenas otimiza o desempenho, mas também oferece uma flexibilidade incrível na manipulação de dados. Esperamos que este guia tenha fornecido um caminho claro e eficaz para alcançar resultados semelhantes em seus projetos.\n"
   ]
  },
  {
   "cell_type": "markdown",
   "id": "49bb6249",
   "metadata": {},
   "source": [
    "## Documentação do Conjunto de Dados \"financial sample.xlsx\""
   ]
  },
  {
   "cell_type": "markdown",
   "id": "fc42b465",
   "metadata": {},
   "source": [
    "**Visão Geral**\n",
    "\n",
    "O conjunto de dados \"financial sample.xlsx\" é um arquivo que contém informações financeiras relacionadas a vendas de produtos. Ele inclui várias colunas que descrevem aspectos importantes dos negócios, como segmentação de mercado, país, produtos, preços, vendas, custos e lucros."
   ]
  },
  {
   "cell_type": "markdown",
   "id": "205144c0",
   "metadata": {},
   "source": [
    "### Colunas do Conjunto de Dados"
   ]
  },
  {
   "cell_type": "markdown",
   "id": "39b9c6cb",
   "metadata": {},
   "source": [
    "Aqui estão as colunas do conjunto de dados e suas respectivas descrições:\n",
    "\n",
    "1. **Segment (Segmento)**\n",
    "   - Descrição: O segmento de mercado ao qual o produto pertence.\n",
    "   \n",
    "2. **Country (País)**\n",
    "   - Descrição: O país onde a venda foi realizada.\n",
    "\n",
    "3. **Product (Produto)**\n",
    "   - Descrição: O nome do produto vendido.\n",
    "\n",
    "4. **Discount Band (Banda de Desconto)**\n",
    "   - Descrição: Corresponde a classificação do desconto, High(alto), Medium(médio), Low(baixo), None(sem desconto)\n",
    "\n",
    "5. **Units Sold (Unidades Vendidas)**\n",
    "   - Descrição: O número de unidades do produto vendidas.\n",
    "\n",
    "6. **Manufacturing Price (Preço de Fabricação)**\n",
    "   - Descrição: O custo de fabricação de uma unidade do produto.\n",
    "\n",
    "7. **Sale Price (Preço de Venda)**\n",
    "   - Descrição: O preço de venda de uma unidade do produto.\n",
    "\n",
    "8. **Gross Sales (Vendas Brutas)**\n",
    "   - Descrição: A receita bruta gerada pelas vendas (Unidades Vendidas * Preço de Venda).\n",
    "\n",
    "9. **Discounts (Descontos)**\n",
    "   - Descrição: O valor total de descontos aplicados às vendas.\n",
    "\n",
    "10. **Sales (Vendas)**\n",
    "    - Descrição: A receita líquida gerada pelas vendas (Vendas Brutas - Descontos).\n",
    "\n",
    "11. **COGS (Custo dos Produtos Vendidos)**\n",
    "    - Descrição: O custo dos produtos vendidos, é o custo total de fabricação ou compra de um produto que uma empresa vende. Inclui o custo dos materiais, mão de obra e outras despesas diretamente relacionadas à produção do produto.\n",
    "\n",
    "12. **Profit (Lucro)**\n",
    "    - Descrição: O lucro gerado pelas vendas (Vendas - Custo dos Bens Vendidos).\n",
    "\n",
    "13. **Date (Data)**\n",
    "    - Descrição: A data em que a venda foi realizada.\n",
    "    \n",
    "14. **Month Number (Mês em Número)**\n",
    "    - Descrição: Mês em número em que a venda foi realizada.\n",
    "    \n",
    "15. **Month Name (Mês)**\n",
    "    - Descrição: Mês em que a venda foi realizada.\n",
    "\n",
    "16. **Year (Ano)**\n",
    "    - Descrição: Ano em que a venda foi realizada.\n",
    "    "
   ]
  },
  {
   "cell_type": "markdown",
   "id": "1bb46777",
   "metadata": {},
   "source": [
    "### Sua gerente deseja ver um relatório sobre seus últimos números de vendas. Ela solicitou um resumo executivo para responder as seguintes perguntas:"
   ]
  },
  {
   "cell_type": "markdown",
   "id": "59735c0d",
   "metadata": {},
   "source": [
    "1. **Qual é o desempenho de vendas por país?** \n",
    "   \n",
    "2. **Como as vendas variam ao longo do tempo?**\n",
    "    \n",
    "3. **Qual segmento é o mais lucrativo?** \n",
    "    \n",
    "4. **Qual produto gera o maior lucro?** \n",
    "   \n",
    "5. **Como as vendas se comparam com os descontos oferecidos?** \n",
    "    \n",
    "6. **Qual mês e ano tiveram mais lucro?** \n",
    "    \n",
    "7. **Onde a empresa está tendo mais sucesso (por país)?** \n",
    "    \n",
    "8. **Em qual produto e segmento a empresa deve continuar investindo?** \n",
    "    \n",
    "10. **Incluir os seguintes indicadores:**\n",
    "    * total lucro(profit).\n",
    "    * total unidades vendidas(units sold)\n",
    "    * total discontos(discounts)\n",
    "    * total vendas(sales)\n",
    "    * total custo dos produtos(cogs)\n",
    "    "
   ]
  },
  {
   "cell_type": "markdown",
   "id": "1153e579",
   "metadata": {},
   "source": [
    "### Print do relatório de Sales(Vendas):"
   ]
  },
  {
   "cell_type": "markdown",
   "id": "6401daf0",
   "metadata": {},
   "source": [
    "![img](../img/sales_report.jpeg)"
   ]
  },
  {
   "cell_type": "markdown",
   "id": "131dfece",
   "metadata": {},
   "source": [
    "### Print do relatório de Profit(Lucro):"
   ]
  },
  {
   "cell_type": "markdown",
   "id": "233ec06c",
   "metadata": {},
   "source": [
    "![img](../img/profit_report.jpeg)"
   ]
  },
  {
   "cell_type": "markdown",
   "id": "8cdc19f4",
   "metadata": {},
   "source": [
    "### Print do relatório de Discount(Descontos):"
   ]
  },
  {
   "cell_type": "markdown",
   "id": "92d8843d",
   "metadata": {},
   "source": [
    "![img](../img/discount_report.jpeg)"
   ]
  },
  {
   "cell_type": "markdown",
   "id": "349c6b69",
   "metadata": {},
   "source": [
    "### Respostas das perguntas após a conclusão dos relatórios:"
   ]
  },
  {
   "cell_type": "markdown",
   "id": "fcb85f53",
   "metadata": {},
   "source": [
    "1. **Qual é o desempenho de vendas por país?** \n",
    "    - Todos os países apresentam desempenho sólido, com receitas acima de 20 milhões, mas é importante destacar que os Estados Unidos lideram, com impressionantes 25 milhões em receitas.\n",
    "\n",
    "2. **Como as vendas variam ao longo do tempo?**\n",
    "    - Apesar de termos dados limitados, é evidente que os meses de junho, outubro e dezembro registram os maiores volumes de vendas, apontando para possíveis sazonalidades.\n",
    "\n",
    "3. **Qual segmento é o mais lucrativo?** \n",
    "    - O segmento \"Government\" demonstra ser o mais lucrativo, contribuindo com um total de 11.388 milhões em lucro.\n",
    "\n",
    "4. **Qual produto gera o maior lucro?** \n",
    "    - O produto \"Paseo\" destaca-se como o mais rentável, gerando um lucro acumulado de 4.797 milhões.\n",
    "\n",
    "5. **Como as vendas se comparam com os descontos oferecidos?** \n",
    "    - Apesar da limitação nos dados históricos, observamos uma correlação entre o valor das vendas e os descontos oferecidos. Em geral, vendas mais altas tendem a estar associadas a descontos mais substanciais.\n",
    "\n",
    "6. **Qual mês e ano tiveram mais lucro?** \n",
    "    - Dezembro de 2014 registrou o pico de lucratividade, gerando 2.025 milhões, representando cerca de 12% do lucro total acumulado.\n",
    "\n",
    "7. **Onde a empresa está tendo mais sucesso (por país)?** \n",
    "    - Embora a Alemanha tenha liderado em lucratividade em 2013, a França alcançou o primeiro lugar em 2014, indicando variações nas regiões de sucesso.\n",
    "\n",
    "8. **Em qual produto e segmento a empresa deve continuar investindo?** \n",
    "    - Em termos de produtos e segmentos de investimento, \"Paseo\" e o segmento \"Government\" demonstram demanda sólida. A estratégia de diversificação, especialmente entre os cinco principais, é recomendada para um crescimento contínuo."
   ]
  },
  {
   "cell_type": "markdown",
   "id": "4f8bb5f9",
   "metadata": {},
   "source": [
    "### Conclusão:"
   ]
  },
  {
   "cell_type": "markdown",
   "id": "157dcf21",
   "metadata": {},
   "source": [
    "**O relatório revela insights valiosos sobre o desempenho financeiro da empresa. Os Estados Unidos lideram as vendas, com destaque para dezembro de 2014 como o mês mais lucrativo. Além disso, o segmento \"Government\" e o produto \"Paseo\" mostram-se como líderes em lucratividade. Essas informações são cruciais para orientar as decisões estratégicas da empresa e identificar oportunidades de investimento. Acompanhar a sazonalidade e a relação entre vendas e descontos é essencial para um crescimento sustentável.**"
   ]
  }
 ],
 "metadata": {
  "kernelspec": {
   "display_name": "Python 3 (ipykernel)",
   "language": "python",
   "name": "python3"
  },
  "language_info": {
   "codemirror_mode": {
    "name": "ipython",
    "version": 3
   },
   "file_extension": ".py",
   "mimetype": "text/x-python",
   "name": "python",
   "nbconvert_exporter": "python",
   "pygments_lexer": "ipython3",
   "version": "3.12.1"
  }
 },
 "nbformat": 4,
 "nbformat_minor": 5
}
